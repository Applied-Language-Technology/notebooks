{
 "cells": [
  {
   "cell_type": "markdown",
   "metadata": {},
   "source": [
    "# Evaluating language models\n",
    "\n",
    "This section introduces you to some basic techniques for evaluating the results of natural language processing.\n",
    "\n",
    "After reading this section, you should:\n",
    "\n",
    "- understand what is meant by a gold standard\n",
    "- know how to evaluate agreement between human annotators\n",
    "- understand simple metrics for evaluating the performance of natural language processing"
   ]
  },
  {
   "cell_type": "markdown",
   "metadata": {},
   "source": [
    "## What is a gold standard?"
   ]
  },
  {
   "cell_type": "code",
   "execution_count": null,
   "metadata": {
    "tags": [
     "remove-input"
    ]
   },
   "outputs": [],
   "source": [
    "# Run this cell to view a YouTube video related to this topic\n",
    "from IPython.display import YouTubeVideo\n",
    "YouTubeVideo('eBJDxHUxRwc', height=350, width=600)"
   ]
  },
  {
   "cell_type": "markdown",
   "metadata": {},
   "source": [
    "A gold standard – also called a ground truth – refers to human-verified data that can used as a benchmark for evaluating the performance of algorithms. \n",
    "\n",
    "In natural language processing, gold standards are used to measure how well humans perform on some task.\n",
    "\n",
    "The goal of natural language processing is to allow computers to achieve or surpass human-level performance in some pre-defined task. \n",
    "\n",
    "Measuring whether algorithms can do so requires a benchmark, which is provided by the gold standard. Put simply, a gold standard provides a point of reference.\n",
    "\n",
    "It is important, however, to understand that gold standards are *abstractions* of language use. \n",
    "\n",
    "Consider, for instance, the task of placing words into word classes: word classes are not given to us by nature, but represent an abstraction that imposes structure on natural language.\n",
    "\n",
    "Language, however, is naturally ambiguous and subjective, and the abstractions used can be underdeveloped – we cannot be sure if all users would categorise words in the same way.\n",
    "\n",
    "This is why we need to measure the reliability of any gold standard, that is, to what extent humans agree on the task."
   ]
  },
  {
   "cell_type": "markdown",
   "metadata": {},
   "source": [
    "## Measuring reliability manually\n",
    "\n",
    "This section introduces how reliability, often understood as agreement between multiple annotators, can be measured manually.\n",
    "\n",
    "### Step 1: Annotate data\n",
    "\n",
    "Sentiment analysis is a task that involves determining the sentiment of a text (for an useful overview that incorporates insights from both linguistics and natural language processing, see [Taboada](https://doi.org/10.1146/annurev-linguistics-011415-040518) (2016).\n",
    "\n",
    "Training a sentiment analysis model requires collecting training data, that is, examples of texts associated with different sentiments.\n",
    "\n",
    "Classify the following tweets into three categories – *positive*, *neutral* or *negative* – based on their sentiment.\n",
    "\n",
    "Write down your decision – one per row – but **do not discuss them or show them to the person next to you.**\n",
    "\n",
    "```\n",
    "1. Updated: HSL GTFS (Helsinki, Finland) https://t.co/fWEpzmNQLz\n",
    "2. current weather in Helsinki: broken clouds, -8°C 100% humidity, wind 4kmh, pressure 1061mb\n",
    "3. CNN: \"WallStreetBets Redditors go ballistic over GameStop's sinking share price\"\n",
    "4. Baana bicycle counter. Today: 3 Same time last week: 1058 Trend: ↓99% This year: 819 518 Last year: 802 079 #Helsinki #cycling\n",
    "5. Elon Musk is now tweeting about #bitcoin \n",
    "6. A perfect Sunday walk in the woods just a few steps from home.\n",
    "7. Went to Domino's today👍 It was so amazing and I think I got damn good dessert as well…\n",
    "8. Choo Choo 🚂 There's our train! 🎉 #holidayahead\n",
    "9. Happy women's day ❤️💋 kisses to all you beautiful ladies. 😚 #awesometobeawoman\n",
    "10. Good morning #Helsinki! Sun will rise in 30 minutes (local time 07:28)\n",
    "```"
   ]
  },
  {
   "cell_type": "markdown",
   "metadata": {
    "nbsphinx": "hidden"
   },
   "source": [
    "Double-click this cell to edit its contents and write down your classifications below:\n",
    "\n",
    "    1.\n",
    "    2.\n",
    "    3.\n",
    "    4.\n",
    "    5.\n",
    "    6.\n",
    "    7.\n",
    "    8.\n",
    "    9.\n",
    "    10."
   ]
  },
  {
   "cell_type": "markdown",
   "metadata": {},
   "source": [
    "### Step 2: Calculate percentage agreement\n",
    "\n",
    "When creating datasets for training models, we typically want the training data to be reliable, that is, so that we agree on whatever we are describing – in this case, the sentiment of the tweets above.\n",
    "\n",
    "One way to measure this is simple *percentage agreement*, that is, how many times out of 10 you and the person next to you agreed on the sentiment of a tweet.\n",
    "\n",
    "Now compare your results calculate percentage agreement by dividing the number of times you agreed by the number of items (10).\n",
    "\n",
    "You can calculate percentage agreement by executing the cell below: just assign the number items you agree on to the variable `agreement`. "
   ]
  },
  {
   "cell_type": "code",
   "execution_count": null,
   "metadata": {},
   "outputs": [],
   "source": [
    "# Replace this number here with the number of items you agreed on\n",
    "agreement = 0  \n",
    "\n",
    "# Divide the count by the number of tweets\n",
    "agreement = agreement / 10\n",
    "\n",
    "# Print out the variable\n",
    "agreement"
   ]
  },
  {
   "cell_type": "markdown",
   "metadata": {},
   "source": [
    "### Step 3: Calculate probabilities for each category\n",
    "\n",
    "Percentage agreement is actually a very poor measure of agreement, as either of you may have made lucky guesses – or perhaps you considered the task boring and classified every tweet into a random category.\n",
    "\n",
    "If you did, we have no way of knowing this, as percentage agreement cannot tell us if the result occurred by chance!\n",
    "\n",
    "Luckily, we can estimate the possibility of *chance agreement* easily.\n",
    "\n",
    "The first step is to count *how many times you used each available category* (positive, neutral or negative).\n",
    "\n",
    "Assign these counts in the variables below."
   ]
  },
  {
   "cell_type": "code",
   "execution_count": null,
   "metadata": {},
   "outputs": [],
   "source": [
    "# Count how many items *you* placed in each category\n",
    "positive = 0\n",
    "neutral = 0\n",
    "negative = 0"
   ]
  },
  {
   "cell_type": "markdown",
   "metadata": {},
   "source": [
    "We can convert these counts into *probabilities* by dividing them with the total number of tweets classified."
   ]
  },
  {
   "cell_type": "code",
   "execution_count": null,
   "metadata": {},
   "outputs": [],
   "source": [
    "positive = positive / 10\n",
    "neutral = neutral / 10\n",
    "negative = negative / 10\n",
    "\n",
    "# Call each variable to examine the output\n",
    "positive, neutral, negative"
   ]
  },
  {
   "cell_type": "markdown",
   "metadata": {},
   "source": [
    "These probabilities represent the chance of *you* choosing that particular category.\n",
    "\n",
    "Now ask the person sitting next to you for their corresponding probabilities and tell them yours as well. \n",
    "\n",
    "Add their probabilities to the variables below."
   ]
  },
  {
   "cell_type": "code",
   "execution_count": null,
   "metadata": {},
   "outputs": [],
   "source": [
    "nb_positive = 0\n",
    "nb_neutral = 0\n",
    "nb_negative = 0"
   ]
  },
  {
   "cell_type": "markdown",
   "metadata": {},
   "source": [
    "Now that we know the probabilities for each class for both annotators, we can calculate the probability that both annotators choose the same category by chance.\n",
    "\n",
    "This is easy: for each category, simply multiply your probability with the corresponding probability from the person next to you.\n",
    "\n",
    "If either annotator did not assign a single tweet into a category, e.g. negative, and the other annotator did, then this effectively rules out the possibility of agreeing by chance (multiplication by zero results in zero)."
   ]
  },
  {
   "cell_type": "code",
   "execution_count": null,
   "metadata": {},
   "outputs": [],
   "source": [
    "both_positive = positive * nb_positive\n",
    "both_neutral = neutral * nb_neutral\n",
    "both_negative = negative * nb_negative"
   ]
  },
  {
   "cell_type": "markdown",
   "metadata": {},
   "source": [
    "### Step 4: Estimate chance agreement\n",
    "\n",
    "Now we are ready to calculate how likely you are to agree by chance.\n",
    "\n",
    "This is known as *expected agreement*, which is calculated by summing up your combined probabilities for each category."
   ]
  },
  {
   "cell_type": "code",
   "execution_count": null,
   "metadata": {},
   "outputs": [],
   "source": [
    "expected_agreement = both_positive + both_neutral + both_negative\n",
    "\n",
    "expected_agreement"
   ]
  },
  {
   "cell_type": "markdown",
   "metadata": {},
   "source": [
    "Now that we know both observed percentage agreement (`agreement`) and the agreement expected by chance (`expected_agreement`), we can use this information for a more reliable measure of *agreement*.\n",
    "\n",
    "One such measure is [Cohen's kappa](https://en.wikipedia.org/wiki/Cohen%27s_kappa) ($\\kappa$), which estimates agreement on the basis of both observed and expected agreement.\n",
    "\n",
    "The formula for Cohen's $\\kappa$ is as follows:\n",
    "\n",
    "$\\kappa = \\frac{P_{observed} - P_{expected}}{1 - P_{expected}}$\n",
    "\n",
    "As all this information is stored in our variables `agreement` and `expected_agreement`, we can easily count the $\\kappa$ score using the code below.\n",
    "\n",
    "Note that we must wrap the subtractions into parentheses to perform them before division."
   ]
  },
  {
   "cell_type": "code",
   "execution_count": null,
   "metadata": {},
   "outputs": [],
   "source": [
    "kappa = (agreement - expected_agreement) / (1 - expected_agreement)\n",
    "\n",
    "kappa"
   ]
  },
  {
   "cell_type": "markdown",
   "metadata": {},
   "source": [
    "This gives us the result for Cohen's $\\kappa$.\n",
    "\n",
    "Let's now consider how to interpret its value."
   ]
  },
  {
   "cell_type": "markdown",
   "metadata": {},
   "source": [
    "## Cohen's kappa as a measure of agreement\n",
    "\n",
    "The theoretical value Cohen's $\\kappa$ runs from $-1$ indicating perfect disagreement to $+1$ for perfect agreement, with $0$ standing for completely random agreement.\n",
    "\n",
    "The $\\kappa$ score is often interpreted as a measure of the strength of agreement.\n",
    "\n",
    "[Landis and Koch](https://doi.org/10.2307/2529310) (1977) famously proposed the following benchmarks, which should nevertheless be taken with a pinch of salt as the divisions are completely arbitrary.\n",
    "\n",
    "| Cohen's K | Strength of agreement|\n",
    "|-----------|----------------------|\n",
    "| <0.00     | Poor                 |\n",
    "| 0.00–0.20 | Slight               |\n",
    "| 0.21–0.40 | Fair                 |\n",
    "| 0.41–0.60 | Moderate             |\n",
    "| 0.61–0.80 | Substantial          |\n",
    "| 0.81–1.00 | Almost perfect       |\n",
    "\n",
    "Cohen's $\\kappa$ can be used to measure agreement between **two** annotators and the categories available must be **fixed** in advance. \n",
    "\n",
    "For measuring agreement between more than two annotators, one must use a measure such as [Fleiss'](https://en.wikipedia.org/wiki/Fleiss%27_kappa) $\\kappa$.\n",
    "\n",
    "Cohen's $\\kappa$ and many more measures of agreement are implemented in various Python libraries, so one rarely needs to perform the calculations manually.\n",
    "\n",
    "The [scikit-learn](https://scikit-learn.org/stable/modules/generated/sklearn.metrics.cohen_kappa_score.html#sklearn.metrics.cohen_kappa_score) library (`sklearn`), for instance, includes an implementation of Cohen's $\\kappa$.\n",
    "\n",
    "Let's import the `cohen_kappa_score()` function for calculating Cohen's $\\kappa$ from scikit-learn.\n",
    "\n",
    "This function takes two *lists* as input and calculates the $\\kappa$ score between them."
   ]
  },
  {
   "cell_type": "code",
   "execution_count": null,
   "metadata": {},
   "outputs": [],
   "source": [
    "# Import the cohen_kappa_score function from the 'metrics' module of the scikit-learn library\n",
    "from sklearn.metrics import cohen_kappa_score"
   ]
  },
  {
   "cell_type": "markdown",
   "metadata": {},
   "source": [
    "We can then define two lists of part-of-speech tags, which make up our toy example for calculating Cohen's $\\kappa$."
   ]
  },
  {
   "cell_type": "code",
   "execution_count": null,
   "metadata": {},
   "outputs": [],
   "source": [
    "# Define two lists named 'a1' and 'a2'\n",
    "a1 = ['ADJ', 'AUX', 'NOUN', 'VERB', 'VERB']\n",
    "a2 = ['ADJ', 'VERB', 'NOUN', 'NOUN', 'VERB']"
   ]
  },
  {
   "cell_type": "markdown",
   "metadata": {},
   "source": [
    "The next step is to feed the two lists, `a1` and `a2`, to the `cohen_kappa_score()` function."
   ]
  },
  {
   "cell_type": "code",
   "execution_count": null,
   "metadata": {},
   "outputs": [],
   "source": [
    "# Use the cohen_kappa_score() function to calculate agreement between the lists\n",
    "cohen_kappa_score(a1, a2)"
   ]
  },
  {
   "cell_type": "markdown",
   "metadata": {},
   "source": [
    "According to the benchmark from Landis and Koch, this score would indicate moderate agreement.\n",
    "\n",
    "Generally, Cohen's $\\kappa$ can be used for measuring agreement on all kinds of tasks that involve placing items into categories.\n",
    "\n",
    "It is rarely necessary to annotate the whole dataset when measuring agreement – a random sample is often enough.\n",
    "\n",
    "If Cohen's $\\kappa$ suggests that the human annotators agree on whatever they are categorising, we can assume that the annotations are *reliable* in the sense that they are not random.\n",
    "\n",
    "However, all measures of inter-annotator agreement, Cohen's $\\kappa$ included, are affected by their underlying assumptions about what agreement is and how it is calculated. In other words, these measures never represent the absolute truth (see e.g. Di Eugenio & Glass [2004](https://dx.doi.org/10.1162/089120104773633402); Artstein & Poesio [2008](https://doi.org/10.1162/coli.07-034-R2))."
   ]
  },
  {
   "cell_type": "markdown",
   "metadata": {},
   "source": [
    "## Evaluating the performance of language models"
   ]
  },
  {
   "cell_type": "code",
   "execution_count": null,
   "metadata": {
    "tags": [
     "remove-input"
    ]
   },
   "outputs": [],
   "source": [
    "# Run this cell to view a YouTube video related to this topic\n",
    "from IPython.display import YouTubeVideo\n",
    "YouTubeVideo('WiN5JCueeFQ', height=350, width=600)"
   ]
  },
  {
   "cell_type": "markdown",
   "metadata": {},
   "source": [
    "Once we have a sufficiently *reliable* gold standard, we can use the gold standard to measure the performance of language models.\n",
    "\n",
    "Let's assume that we have a reliable gold standard consisting of 10 tokens annotated for their part-of-speech tags.\n",
    "\n",
    "These part-of-speech tags are given in the list `gold_standard`."
   ]
  },
  {
   "cell_type": "code",
   "execution_count": null,
   "metadata": {},
   "outputs": [],
   "source": [
    "# Define a list named 'gold_standard'\n",
    "gold_standard = ['ADJ', 'ADJ', 'AUX', 'VERB', 'AUX', 'NOUN', 'NOUN', 'ADJ', 'DET', 'PRON']"
   ]
  },
  {
   "cell_type": "markdown",
   "metadata": {},
   "source": [
    "We then retrieve the predictions for the same tokens from some language model and store them in a list named `predictions`."
   ]
  },
  {
   "cell_type": "code",
   "execution_count": null,
   "metadata": {},
   "outputs": [],
   "source": [
    "# Define a list named 'predictions'\n",
    "predictions = ['NOUN', 'ADJ', 'AUX', 'VERB', 'AUX', 'NOUN', 'VERB', 'ADJ', 'DET', 'PROPN']"
   ]
  },
  {
   "cell_type": "markdown",
   "metadata": {},
   "source": [
    "Now that we have a toy data set with two sets of annotations to compare, let's import the entire *metrics* module from the *scikit-learn* library and apply them to our data.\n",
    "\n",
    "This module contains implementations for [various evaluation metrics](https://scikit-learn.org/stable/modules/model_evaluation.html)."
   ]
  },
  {
   "cell_type": "code",
   "execution_count": null,
   "metadata": {},
   "outputs": [],
   "source": [
    "# Import the 'metrics' module from the scikit-learn library (sklearn)\n",
    "from sklearn import metrics"
   ]
  },
  {
   "cell_type": "markdown",
   "metadata": {},
   "source": [
    "First of all, we can calculate [accuracy](https://scikit-learn.org/stable/modules/generated/sklearn.metrics.accuracy_score.html#sklearn.metrics.accuracy_score) using the `accuracy_score()` function, which is precisely the same as observed agreement that we calculated manually above.\n",
    "\n",
    "This function takes two lists as input."
   ]
  },
  {
   "cell_type": "code",
   "execution_count": null,
   "metadata": {},
   "outputs": [],
   "source": [
    "# Use the accuracy_score() function from the 'metrics' module\n",
    "metrics.accuracy_score(gold_standard, predictions)"
   ]
  },
  {
   "cell_type": "markdown",
   "metadata": {},
   "source": [
    "Accuracy, however, suffers from the same shortcoming as observed agreement – the output of the language model in `predictions` may be the result of making a series of lucky guesses.\n",
    "\n",
    "However, given that we are working with a toy example, we can easily verify that 7 out of 10 part-of-speech tags match. This gives an accuracy of 0.7 or 70%.\n",
    "\n",
    "To better evaluate the performance of the language model against our gold standard, the results can be organised into what is called a *confusion matrix*.\n",
    "\n",
    "To do so, we need all part-of-speech tags that occur in `gold_standard` and `predictions`.\n",
    "\n",
    "We can easily collect unique part-of-speech tags using the `set()` function.\n",
    "\n",
    "The result is a _set_, a powerful data structure in Python, which consists of a collection of unique items.\n",
    "\n",
    "Essentially, we use a set to remove duplicates in the two lists `gold_standard` and `predictions`."
   ]
  },
  {
   "cell_type": "code",
   "execution_count": null,
   "metadata": {},
   "outputs": [],
   "source": [
    "# Collect unique POS tags into a set by combining the two lists\n",
    "pos_tags = set(gold_standard + predictions)\n",
    "\n",
    "# Sort the set alphabetically and cast the result into a list\n",
    "pos_tags = list(sorted(pos_tags))\n",
    "\n",
    "# Print the resulting list\n",
    "pos_tags"
   ]
  },
  {
   "cell_type": "markdown",
   "metadata": {},
   "source": [
    "We can use these unique categories to compile a table, in which the rows stand for the gold standard and the columns stand for predictions made by the language model. Having collected all unique part-of-speech tags at hand ensures that we can always find a place for each item.\n",
    "\n",
    "This kind of table is commonly called a *confusion matrix*.\n",
    "\n",
    "The table is populated by simply walking through each pair of items in the gold standard and model predictions, adding $+1$ to the cell for this combination.\n",
    "\n",
    "For example, the first item in `gold_standard` is ADJ, whereas the first item in `predictions` is NOUN."
   ]
  },
  {
   "cell_type": "code",
   "execution_count": null,
   "metadata": {},
   "outputs": [],
   "source": [
    "# Print out the first item in each list\n",
    "gold_standard[0], predictions[0]"
   ]
  },
  {
   "cell_type": "markdown",
   "metadata": {},
   "source": [
    "We then find the row for ADJ and the column for NOUN and add one to this cell.\n",
    "\n",
    "   |       | ADJ | AUX | DET | NOUN | PRON | PROPN | VERB |\n",
    "   |-------|-----|-----|-----|------|------|-------|------|\n",
    "   | ADJ   | 2   | 0   | 0   | 1    | 0    | 0     | 0    |  \n",
    "   | AUX   | 0   | 2   | 0   | 0    | 0    | 0     | 0    |\n",
    "   | DET   | 0   | 0   | 1   | 0    | 0    | 0     | 0    |\n",
    "   | NOUN  | 0   | 0   | 0   | 1    | 0    | 0     | 1    |\n",
    "   | PRON  | 0   | 0   | 0   | 0    | 0    | 1     | 0    |\n",
    "   | PROPN | 0   | 0   | 0   | 0    | 0    | 0     | 0    |\n",
    "   | VERB  | 0   | 0   | 0   | 0    | 0    | 0     | 1    |\n",
    "\n",
    "As you can see, the correct predictions form a roughly diagonal line across the table.\n",
    "\n",
    "We can use the table to derive two additional metrics for each class: *precision* and *recall*.\n",
    "\n",
    "Precision is the *proportion of correct predictions per class*. In plain words, precision tells you how many predictions were correct for each class, or part-of-speech tag.\n",
    "\n",
    "For example, the sum for column VERB is $2$, of which $1$ prediction is correct (that which is located in the row VERB).\n",
    "\n",
    "Hence precision for VERB is $1 / 2 = 0.5$ – half of the tokens predicted to be verbs were classified correctly. The same holds true for NOUN, as the column sums up two $2$, but only $1$ prediction is in the correct row.\n",
    "\n",
    "Recall, in turn, gives the proportion of correct predictions for all examples of that class. \n",
    "\n",
    "Put differently, recall tells you *how many actual instances of a given class the model was able to \"find\"*.\n",
    "\n",
    "For example, the sum for row ADJ is $3$: there are three adjectives in the gold standard, but only two are located in the corresponding column for ADJ.\n",
    "\n",
    "This means that recall for ADJ is $2 / 3 = 0.66$ – approximately 66% of the adjectives present in the gold standard were classified correctly. For NOUN, recall is $1 / 2 = 0.5$.\n",
    "\n",
    "The *scikit-learn* library provides a `confusion_matrix()` function for automatically generating confusion matrices. \n",
    "\n",
    "Run the cell below and compare the output to the manually created confusion matrix above."
   ]
  },
  {
   "cell_type": "code",
   "execution_count": null,
   "metadata": {},
   "outputs": [],
   "source": [
    "# Calculate a confusion matrix for the two lists and print the result\n",
    "print(metrics.confusion_matrix(gold_standard, predictions))"
   ]
  },
  {
   "cell_type": "markdown",
   "metadata": {},
   "source": [
    "To evaluate the ability of the language model to predict the correct part-of-speech tag, we can use [*precision*](https://scikit-learn.org/stable/modules/generated/sklearn.metrics.precision_score.html#sklearn.metrics.precision_score), which is implemented in the `precision_score()` function in the *scikit-learn* library.\n",
    "\n",
    "Because we have more than two classes for part-of-speech tags instead of just two (binary) classes, we must define how the results for each class are processed.\n",
    "\n",
    "This option is set using the `average` argument of the `precision_score()` function. If we set `average` to `None`, the `precision_score()` function calculates precision for each class. \n",
    "\n",
    "We also set the `zero_division` argument to tell the function what to do if the classes found in `predictions` are not present in `gold_standard`. This prevents calculating a precision score: `zero_division` sets the precision score to 0 in these cases.\n",
    "\n",
    "The results are organised according to a sorted *set* of labels present in `gold_standard` and `predictions`."
   ]
  },
  {
   "cell_type": "code",
   "execution_count": null,
   "metadata": {},
   "outputs": [],
   "source": [
    "# Calculate precision between the two lists for each class (part-of-speech tag)\n",
    "precision = metrics.precision_score(gold_standard, predictions, average=None, zero_division=0)\n",
    "\n",
    "# Call the variable to examine the result\n",
    "precision"
   ]
  },
  {
   "cell_type": "markdown",
   "metadata": {},
   "source": [
    "The output is a [NumPy](https://www.numpy.org) array. NumPy is a powerful library for working with numerical data which can be found under the hood of many Python libraries.\n",
    "\n",
    "If we want to combine our list of labels in `pos_tags` with the precision scores in `precision`, we can do this using Python's `zip()` function, which joins together lists and/or arrays of the same size. To view the result, we must cast it into a dictionary using `dict()`."
   ]
  },
  {
   "cell_type": "code",
   "execution_count": null,
   "metadata": {},
   "outputs": [],
   "source": [
    "# Combine the 'pos_tags' set with the 'precision' array using the zip()\n",
    "# function; cast the result into a dictionary\n",
    "dict(zip(pos_tags, precision))"
   ]
  },
  {
   "cell_type": "markdown",
   "metadata": {},
   "source": [
    "If we want to get single precision score for all classes, we can use the option given by the string `'macro'`, which means that each class is treated as equally important regardless of how many instances belonging to this class can be found in the data."
   ]
  },
  {
   "cell_type": "code",
   "execution_count": null,
   "metadata": {},
   "outputs": [],
   "source": [
    "# Calculate precision between the two lists and take their average\n",
    "macro_precision = metrics.precision_score(gold_standard, predictions, average='macro', zero_division=0)\n",
    "\n",
    "# Call the variable to examine the result\n",
    "macro_precision"
   ]
  },
  {
   "cell_type": "markdown",
   "metadata": {},
   "source": [
    "The macro-averaged precision score is calculated by summing up the precision scores and dividing them by the number of classes.\n",
    "\n",
    "We can easily verify this manually."
   ]
  },
  {
   "cell_type": "code",
   "execution_count": null,
   "metadata": {},
   "outputs": [],
   "source": [
    "# Calculate macro-average precision manually by summing the precision \n",
    "# scores and dividing the result by the number of classes in 'precision'\n",
    "sum(precision) / len(precision)"
   ]
  },
  {
   "cell_type": "markdown",
   "metadata": {},
   "source": [
    "Calculating recall is equally easy using the `recall_score()` function from the *scikit-learn* library."
   ]
  },
  {
   "cell_type": "code",
   "execution_count": null,
   "metadata": {},
   "outputs": [],
   "source": [
    "# Calculate recall between the two lists for each class (part-of-speech tag)\n",
    "recall = metrics.recall_score(gold_standard, predictions, average=None, zero_division=0)\n",
    "\n",
    "# Combine the 'pos_tags' set with the 'recall' array using the zip()\n",
    "# function; cast the result into a dictionary\n",
    "dict(zip(pos_tags, recall))"
   ]
  },
  {
   "cell_type": "markdown",
   "metadata": {},
   "source": [
    "The *scikit-learn* library provides a very useful function for providing an overview of classification performance called `classification_report()`.\n",
    "\n",
    "This will give you the precision and recall scores for each class, together with the [F1-score](https://scikit-learn.org/stable/modules/generated/sklearn.metrics.f1_score.html), which is a balanced average of precision and recall, that is, both precision and recall contribute equally to the F1-score. The values for the F1-score run from $0$ to $1$."
   ]
  },
  {
   "cell_type": "code",
   "execution_count": null,
   "metadata": {},
   "outputs": [],
   "source": [
    "# Print out a classification report\n",
    "print(metrics.classification_report(gold_standard, predictions, zero_division=0))"
   ]
  },
  {
   "cell_type": "markdown",
   "metadata": {},
   "source": [
    "As you can see, the macro-averaged scores on the row *macro avg* correspond to those that we calculated above.\n",
    "\n",
    "Finally, the weighted averages account for the number of instances in each class when calculating the average. The column *support* counts the number of instances observed for each class."
   ]
  },
  {
   "cell_type": "markdown",
   "metadata": {},
   "source": [
    "This section should have given you an idea how to assess the reliability of human annotations, and how reliable annotations can be used as a gold standard for benchmarking the performance of natural language processing. \n",
    "\n",
    "You should also understand certain basic metrics used for benchmarking performance, such as accuracy, precision, recall and F1-score.\n",
    "\n",
    "In the [following section](../part_ii/06_managing_data.ipynb), you will learn about managing textual data."
   ]
  }
 ],
 "metadata": {
  "celltoolbar": "Edit Metadata",
  "kernelspec": {
   "display_name": "Python 3 (ipykernel)",
   "language": "python",
   "name": "python3"
  },
  "language_info": {
   "codemirror_mode": {
    "name": "ipython",
    "version": 3
   },
   "file_extension": ".py",
   "mimetype": "text/x-python",
   "name": "python",
   "nbconvert_exporter": "python",
   "pygments_lexer": "ipython3",
   "version": "3.9.7"
  }
 },
 "nbformat": 4,
 "nbformat_minor": 2
}
