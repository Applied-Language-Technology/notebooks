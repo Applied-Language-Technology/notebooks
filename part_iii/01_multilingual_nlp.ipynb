{
 "cells": [
  {
   "cell_type": "markdown",
   "metadata": {},
   "source": [
    "# Processing diverse languages"
   ]
  },
  {
   "cell_type": "markdown",
   "metadata": {
    "tags": [
     "remove-cell"
    ]
   },
   "source": [
    "> ⚠️ The cells of this notebook have been executed to facilitate the use of [readthedocs.io](applied-language-technology.readthedocs.io/). If you wish to work through the notebook step-by-step, go to the *Kernel* menu and select *Restart & Clear Output*."
   ]
  },
  {
   "cell_type": "markdown",
   "metadata": {},
   "source": [
    "After reading this section, you should:\n",
    "\n",
    " - know how to download and use language models in Stanza, a Python library for processing many languages\n",
    " - how to interface Stanza with the spaCy natural language processing library\n",
    " - know how to access linguistic annotations produced by Stanza language models via spaCy \n",
    "\n",
    "## Introduction\n",
    "\n",
    "Part II introduced basic natural language processing tasks using examples written in the English language.\n",
    "\n",
    "As a global *lingua franca*, English is a highly-resourced language in terms of natural language processing. Compared to many other languages, the amount of data – especially human-annotated data – available for English is greater and covers a wider range of domains (Del Gratta et al. [2021](https://doi.org/10.1007/s10579-020-09520-6)).\n",
    "\n",
    "Unfortunately, the imbalance in resources and research effort has led to a situation where the advances in processing the English language are occasionally claimed to hold for natural language in general. \n",
    "\n",
    "However, as Bender ([2019](https://thegradient.pub/the-benderrule-on-naming-the-languages-we-study-and-why-it-matters/)) has shown, *English is not a synonym for natural language*: even if one demonstrates that computers can achieve or surpass human-level performance in some natural language processing task for the English language, this does not mean that one has solved this task or problem for *natural language as a whole*.\n",
    "\n",
    "To measure progress in the field of natural language processing and to ensure that as many languages as possible can benefit from advances in language technology, it is highly desirable to conduct research on processing languages used across the world. "
   ]
  },
  {
   "cell_type": "markdown",
   "metadata": {},
   "source": [
    "## Stanza – a Python library for processing many languages\n",
    "\n",
    "To get started with working languages other than English, we can use a library named Stanza.\n",
    "\n",
    "[Stanza](https://stanfordnlp.github.io/stanza/) is a Python library for natural language processing that provides pre-trained language models for [many languages](https://stanfordnlp.github.io/stanza/available_models.html) (Qi et al. [2020](https://www.aclweb.org/anthology/2020.acl-demos.14/)).\n",
    "\n",
    "Stanza language models are trained on corpora annotated using the [Universal Dependencies](https://universaldependencies.org/) formalism, which means that these models can perform tasks such as tokenization, part-of-speech tagging, morphological tagging and dependency parsing. \n",
    "\n",
    "These are essentially the same tasks that we explored using the spaCy natural language processing library in [Part II](../part_ii/03_basic_nlp.ipynb).\n",
    "\n",
    "Let's start exploring Stanza by importing the library."
   ]
  },
  {
   "cell_type": "code",
   "execution_count": 1,
   "metadata": {},
   "outputs": [],
   "source": [
    "# Import the Stanza library\n",
    "import stanza"
   ]
  },
  {
   "cell_type": "markdown",
   "metadata": {},
   "source": [
    "To process a given language, we must first download a Stanza language model using the `download()` function.\n",
    "\n",
    "The `download()` function requires a single argument, `lang`, which defines the language model to be downloaded.\n",
    "\n",
    "To download a language model for a given language, retrieve the two-letter language code (e.g. `wo`) for the language from [the list of available language models](https://stanfordnlp.github.io/stanza/available_models.html) and pass the language code as a string object to the `lang` argument.\n",
    "\n",
    "For example, the following code would download a model for Wolof, a language spoken in West Africa that belongs to the family of Niger-Congo languages. This model has been trained using the Wolof treebank (Dione [2019](https://www.aclweb.org/anthology/W19-8003/)).\n",
    "\n",
    "```python\n",
    "# Download Stanza language model for Wolof\n",
    "stanza.download(lang='wo')\n",
    "```\n",
    "\n",
    "For some languages, Stanza provides models that have been trained on different datasets. Stanza refers to models trained on different datasets as *packages*. By default, Stanza automatically downloads the package with model trained on the largest dataset available for the language in question.\n",
    "\n",
    "To select a model trained on a specific dataset, pass the name of its package as a string object to the `package` argument.\n",
    "\n",
    "To exemplify, the following command would download a model for Finnish trained on the [*FinnTreeBank*](https://universaldependencies.org/treebanks/fi_ftb/index.html) (package: `ftb`) dataset instead of the default model, which is trained on the [*Turku Dependency Treebank*](https://universaldependencies.org/treebanks/fi_tdt/index.html) dataset (package: `tbt`).\n",
    "\n",
    "```python\n",
    "# Download a Stanza language model for Finnish trained using the\n",
    "# FinnTreeBank (package 'ftb')\n",
    "stanza.download(lang='fi', package='ftb')\n",
    "```\n",
    "\n",
    "The package names are provided in [the list of language models](https://stanfordnlp.github.io/stanza/available_models.html) available for Stanza."
   ]
  },
  {
   "cell_type": "markdown",
   "metadata": {
    "tags": [
     "remove-cell"
    ]
   },
   "source": [
    "To install the language model into the permanent storage on [CSC Notebooks](https://notebooks.csc.fi/), we must also pass the optional `model_dir` argument to the `download()` function, which contains a string that points towards a directory in the permanent storage, namely `/home/jovyan/work`.\n",
    "\n",
    "If the models are not placed in the permanent storage, they will be deleted when the server is shut down.\n",
    "\n",
    "Run the cell below to download the Stanza language model for Wolof into the directory `../stanza_models`.\n",
    "\n",
    "Note that `..` moves up one step in the directory structure relative to this notebook, which places the model into the directory `stanza_models` under the directory `notebooks`."
   ]
  },
  {
   "cell_type": "code",
   "execution_count": 2,
   "metadata": {
    "tags": [
     "remove-cell"
    ]
   },
   "outputs": [
    {
     "name": "stderr",
     "output_type": "stream",
     "text": [
      "Downloading https://raw.githubusercontent.com/stanfordnlp/stanza-resources/master/resources_1.2.0.json: 128kB [00:00, 43.7MB/s]                    \n",
      "2021-03-18 12:50:30 INFO: Downloading default packages for language: wo (Wolof)...\n",
      "2021-03-18 12:50:30 INFO: File exists: ../stanza_models/wo/default.zip.\n",
      "2021-03-18 12:50:31 INFO: Finished downloading models and saved to ../stanza_models.\n"
     ]
    }
   ],
   "source": [
    "# Download a Stanza language model for Wolof into the directory \"../stanza_models\"\n",
    "stanza.download(lang='wo', model_dir='../stanza_models')"
   ]
  },
  {
   "cell_type": "markdown",
   "metadata": {
    "tags": [
     "remove-cell"
    ]
   },
   "source": [
    "### Quick exercise\n",
    "\n",
    "Check [the list of language models](https://stanfordnlp.github.io/stanza/available_models.html) available for Stanza and download a model for a language that you would like to work with.\n",
    "\n",
    "Use the code below: remember to replace the input to the `lang` argument with the code corresponding to your language of interest.\n",
    "\n",
    "```python\n",
    "stanza.download(lang='XX', model_dir='../stanza_models')\n",
    "```"
   ]
  },
  {
   "cell_type": "code",
   "execution_count": 3,
   "metadata": {
    "tags": [
     "remove-cell"
    ]
   },
   "outputs": [],
   "source": [
    "# Write your code below this line and press Shift and Enter to run the code\n"
   ]
  },
  {
   "cell_type": "markdown",
   "metadata": {},
   "source": [
    "### Loading a language model into Stanza\n",
    "\n",
    "To load a Stanza language model into Python, we must first create a *Pipeline* object by initialising an instance of the `Pipeline()` class from the `stanza` module.\n",
    "\n",
    "To exemplify this procedure, let's initialise a pipeline with a language model for Wolof.\n",
    "\n",
    "To load a language model for Wolof into the pipeline, we must provide the string `wo` to the `lang` argument of the `Pipeline()` function.\n",
    "\n",
    "```python\n",
    "# Initialise a Stanza pipeline with a language model for Wolof;\n",
    "# assign model to variable 'nlp_wo'.\n",
    "nlp_wo = stanza.Pipeline(lang='wo')\n",
    "```"
   ]
  },
  {
   "cell_type": "markdown",
   "metadata": {
    "tags": [
     "remove-cell"
    ]
   },
   "source": [
    "Because we did **not** place the language model into the default directory, we must also provide a string containing the path to the directory with Stanza language models to the `dir` argument.\n",
    "\n",
    "We then store the resulting pipeline under the variable `nlp_wo`."
   ]
  },
  {
   "cell_type": "code",
   "execution_count": 4,
   "metadata": {
    "tags": [
     "remove-cell"
    ]
   },
   "outputs": [
    {
     "name": "stderr",
     "output_type": "stream",
     "text": [
      "2021-03-18 12:50:31 INFO: Loading these models for language: wo (Wolof):\n",
      "=======================\n",
      "| Processor | Package |\n",
      "-----------------------\n",
      "| tokenize  | wtb     |\n",
      "| mwt       | wtb     |\n",
      "| pos       | wtb     |\n",
      "| lemma     | wtb     |\n",
      "| depparse  | wtb     |\n",
      "=======================\n",
      "\n",
      "2021-03-18 12:50:31 INFO: Use device: cpu\n",
      "2021-03-18 12:50:31 INFO: Loading: tokenize\n",
      "2021-03-18 12:50:31 INFO: Loading: mwt\n",
      "2021-03-18 12:50:31 INFO: Loading: pos\n",
      "2021-03-18 12:50:31 INFO: Loading: lemma\n",
      "2021-03-18 12:50:31 INFO: Loading: depparse\n",
      "2021-03-18 12:50:31 INFO: Done loading processors!\n"
     ]
    }
   ],
   "source": [
    "# Use the Pipeline() class to initialise a Stanza pipeline with a language model for Wolof, which\n",
    "# is assigned to the variable 'nlp_wo'.\n",
    "nlp_wo = stanza.Pipeline(lang='wo', dir='../stanza_models')"
   ]
  },
  {
   "cell_type": "code",
   "execution_count": 5,
   "metadata": {},
   "outputs": [
    {
     "data": {
      "text/plain": [
       "<stanza.pipeline.core.Pipeline at 0x11088fee0>"
      ]
     },
     "execution_count": 5,
     "metadata": {},
     "output_type": "execute_result"
    }
   ],
   "source": [
    "# Call the variable to examine the output\n",
    "nlp_wo"
   ]
  },
  {
   "cell_type": "markdown",
   "metadata": {},
   "source": [
    "Loading a language model into Stanza returns *Pipeline* object, which consists of a number of *processors* that perform various natural language processing tasks.\n",
    "\n",
    "The output above lists the processors under the heading of the same name, together with the names of the packages used to train these processors.\n",
    "\n",
    "As we learned in [Part II](http://localhost:8888/notebooks/part_ii/04_basic_nlp_continued.ipynb#Modifying-spaCy-pipelines), one might not always need all linguistic annotations created by a model, which always come with a computational cost. \n",
    "\n",
    "To speed up processing, you can define the processors to be included in the *Pipeline* object by providing the argument `processors` with a string object that contains the [processor names](https://stanfordnlp.github.io/stanza/pipeline.html#processors) to be included in the pipeline, which must be separated by commas.\n",
    "\n",
    "For example, creating a *Pipeline* using the command below would only include the processors for tokenization and part-of-speech tagging into the pipeline.\n",
    "\n",
    "```python\n",
    "# Initialise a Stanza pipeline with a language model for Wolof;\n",
    "# assign model to variable 'nlp_wo'. Only include tokenizer \n",
    "# and part-of-speech tagger.\n",
    "nlp_wo = stanza.Pipeline(lang='wo', processors='tokenize, pos')\n",
    "```"
   ]
  },
  {
   "cell_type": "markdown",
   "metadata": {},
   "source": [
    "### Processing text using Stanza\n",
    "\n",
    "Now that we have initialised a Stanza *Pipeline* with a language model, we can feed some text in Wolof to the model under `nlp_wo` as a string object.\n",
    "\n",
    "We store the result under the variable `doc_wo`."
   ]
  },
  {
   "cell_type": "code",
   "execution_count": 6,
   "metadata": {},
   "outputs": [
    {
     "data": {
      "text/plain": [
       "stanza.models.common.doc.Document"
      ]
     },
     "execution_count": 6,
     "metadata": {},
     "output_type": "execute_result"
    }
   ],
   "source": [
    "# Feed text to the model under 'nlp_wo'; store result under the variable 'doc'\n",
    "doc_wo = nlp_wo(\"Réew maa ngi lebe turam wi ci dex gi ko peek ci penku ak bëj-gànnaar, te ab balluwaayam bawoo ca Fuuta Jallon ca Ginne, di Dexug Senegaal. Ab kilimaam bu gëwéel la te di bu fendi te yor ñaari jamono: jamonoy nawet (jamonoy taw) ak ju noor (jamonoy fendi).\")\n",
    "\n",
    "# Check the type of the output\n",
    "type(doc_wo)"
   ]
  },
  {
   "cell_type": "markdown",
   "metadata": {},
   "source": [
    "This returns a Stanza [*Document*](https://stanfordnlp.github.io/stanza/data_objects.html#document) object, which contains the linguistic annotations created by passing the text through the pipeline.\n",
    "\n",
    "The attribute `sentences` of a Stanza *Document* object contains a list, where each item contains a single sentence.\n",
    "\n",
    "Thus we can use brackets to access the first item `[0]` in the list."
   ]
  },
  {
   "cell_type": "code",
   "execution_count": 7,
   "metadata": {
    "tags": [
     "output_scroll"
    ]
   },
   "outputs": [
    {
     "data": {
      "text/plain": [
       "[\n",
       "  {\n",
       "    \"id\": 1,\n",
       "    \"text\": \"Réew\",\n",
       "    \"lemma\": \"réew\",\n",
       "    \"upos\": \"NOUN\",\n",
       "    \"xpos\": \"NOUN\",\n",
       "    \"head\": 4,\n",
       "    \"deprel\": \"nsubj\",\n",
       "    \"misc\": \"start_char=0|end_char=4\"\n",
       "  },\n",
       "  {\n",
       "    \"id\": 2,\n",
       "    \"text\": \"maa\",\n",
       "    \"lemma\": \"a\",\n",
       "    \"upos\": \"AUX\",\n",
       "    \"xpos\": \"AUX\",\n",
       "    \"feats\": \"PronType=Prs\",\n",
       "    \"head\": 4,\n",
       "    \"deprel\": \"aux\",\n",
       "    \"misc\": \"start_char=5|end_char=8\"\n",
       "  },\n",
       "  {\n",
       "    \"id\": 3,\n",
       "    \"text\": \"ngi\",\n",
       "    \"lemma\": \"ngi\",\n",
       "    \"upos\": \"AUX\",\n",
       "    \"xpos\": \"AUX\",\n",
       "    \"feats\": \"Aspect=Prog\",\n",
       "    \"head\": 4,\n",
       "    \"deprel\": \"aux\",\n",
       "    \"misc\": \"start_char=9|end_char=12\"\n",
       "  },\n",
       "  {\n",
       "    \"id\": 4,\n",
       "    \"text\": \"lebe\",\n",
       "    \"lemma\": \"lebe\",\n",
       "    \"upos\": \"VERB\",\n",
       "    \"xpos\": \"VERB\",\n",
       "    \"feats\": \"Mood=Ind|VerbForm=Fin\",\n",
       "    \"head\": 0,\n",
       "    \"deprel\": \"root\",\n",
       "    \"misc\": \"start_char=13|end_char=17\"\n",
       "  },\n",
       "  {\n",
       "    \"id\": 5,\n",
       "    \"text\": \"turam\",\n",
       "    \"lemma\": \"tur\",\n",
       "    \"upos\": \"NOUN\",\n",
       "    \"xpos\": \"NOUN\",\n",
       "    \"feats\": \"Number=Sing|Poss=Yes\",\n",
       "    \"head\": 4,\n",
       "    \"deprel\": \"obj\",\n",
       "    \"misc\": \"start_char=18|end_char=23\"\n",
       "  },\n",
       "  {\n",
       "    \"id\": 6,\n",
       "    \"text\": \"wi\",\n",
       "    \"lemma\": \"bi\",\n",
       "    \"upos\": \"DET\",\n",
       "    \"xpos\": \"DET\",\n",
       "    \"feats\": \"Definite=Def|Deixis=Prox|NounClass=Wol10|Number=Sing|PronType=Art\",\n",
       "    \"head\": 5,\n",
       "    \"deprel\": \"det\",\n",
       "    \"misc\": \"start_char=24|end_char=26\"\n",
       "  },\n",
       "  {\n",
       "    \"id\": 7,\n",
       "    \"text\": \"ci\",\n",
       "    \"lemma\": \"ci\",\n",
       "    \"upos\": \"ADP\",\n",
       "    \"xpos\": \"PREP\",\n",
       "    \"head\": 8,\n",
       "    \"deprel\": \"case\",\n",
       "    \"misc\": \"start_char=27|end_char=29\"\n",
       "  },\n",
       "  {\n",
       "    \"id\": 8,\n",
       "    \"text\": \"dex\",\n",
       "    \"lemma\": \"dex\",\n",
       "    \"upos\": \"NOUN\",\n",
       "    \"xpos\": \"NOUN\",\n",
       "    \"head\": 4,\n",
       "    \"deprel\": \"obl\",\n",
       "    \"misc\": \"start_char=30|end_char=33\"\n",
       "  },\n",
       "  {\n",
       "    \"id\": 9,\n",
       "    \"text\": \"gi\",\n",
       "    \"lemma\": \"bi\",\n",
       "    \"upos\": \"PRON\",\n",
       "    \"xpos\": \"PRON\",\n",
       "    \"feats\": \"Definite=Def|Deixis=Prox|NounClass=Wol3|Number=Sing|Person=3|PronType=Rel\",\n",
       "    \"head\": 11,\n",
       "    \"deprel\": \"nsubj\",\n",
       "    \"misc\": \"start_char=34|end_char=36\"\n",
       "  },\n",
       "  {\n",
       "    \"id\": 10,\n",
       "    \"text\": \"ko\",\n",
       "    \"lemma\": \"ko\",\n",
       "    \"upos\": \"PRON\",\n",
       "    \"xpos\": \"CL\",\n",
       "    \"feats\": \"Case=Acc|Number=Sing|Person=3|PronType=Prs\",\n",
       "    \"head\": 11,\n",
       "    \"deprel\": \"obj\",\n",
       "    \"misc\": \"start_char=37|end_char=39\"\n",
       "  },\n",
       "  {\n",
       "    \"id\": 11,\n",
       "    \"text\": \"peek\",\n",
       "    \"lemma\": \"peek\",\n",
       "    \"upos\": \"VERB\",\n",
       "    \"xpos\": \"VERB\",\n",
       "    \"feats\": \"Mood=Ind|VerbForm=Fin\",\n",
       "    \"head\": 8,\n",
       "    \"deprel\": \"acl:relcl\",\n",
       "    \"misc\": \"start_char=40|end_char=44\"\n",
       "  },\n",
       "  {\n",
       "    \"id\": 12,\n",
       "    \"text\": \"ci\",\n",
       "    \"lemma\": \"ci\",\n",
       "    \"upos\": \"ADP\",\n",
       "    \"xpos\": \"PREP\",\n",
       "    \"head\": 13,\n",
       "    \"deprel\": \"case\",\n",
       "    \"misc\": \"start_char=45|end_char=47\"\n",
       "  },\n",
       "  {\n",
       "    \"id\": 13,\n",
       "    \"text\": \"penku\",\n",
       "    \"lemma\": \"penku\",\n",
       "    \"upos\": \"NOUN\",\n",
       "    \"xpos\": \"NOUN\",\n",
       "    \"head\": 11,\n",
       "    \"deprel\": \"obl\",\n",
       "    \"misc\": \"start_char=48|end_char=53\"\n",
       "  },\n",
       "  {\n",
       "    \"id\": 14,\n",
       "    \"text\": \"ak\",\n",
       "    \"lemma\": \"ak\",\n",
       "    \"upos\": \"CCONJ\",\n",
       "    \"xpos\": \"CONJ\",\n",
       "    \"head\": 15,\n",
       "    \"deprel\": \"case\",\n",
       "    \"misc\": \"start_char=54|end_char=56\"\n",
       "  },\n",
       "  {\n",
       "    \"id\": 15,\n",
       "    \"text\": \"bëj-gànnaar\",\n",
       "    \"lemma\": \"bëj-gànnaar\",\n",
       "    \"upos\": \"NOUN\",\n",
       "    \"xpos\": \"NOUN\",\n",
       "    \"head\": 13,\n",
       "    \"deprel\": \"conj\",\n",
       "    \"misc\": \"start_char=57|end_char=68\"\n",
       "  },\n",
       "  {\n",
       "    \"id\": 16,\n",
       "    \"text\": \",\",\n",
       "    \"lemma\": \",\",\n",
       "    \"upos\": \"PUNCT\",\n",
       "    \"xpos\": \"COMMA\",\n",
       "    \"head\": 20,\n",
       "    \"deprel\": \"punct\",\n",
       "    \"misc\": \"start_char=68|end_char=69\"\n",
       "  },\n",
       "  {\n",
       "    \"id\": 17,\n",
       "    \"text\": \"te\",\n",
       "    \"lemma\": \"te\",\n",
       "    \"upos\": \"CCONJ\",\n",
       "    \"xpos\": \"CONJ\",\n",
       "    \"head\": 20,\n",
       "    \"deprel\": \"cc\",\n",
       "    \"misc\": \"start_char=70|end_char=72\"\n",
       "  },\n",
       "  {\n",
       "    \"id\": 18,\n",
       "    \"text\": \"ab\",\n",
       "    \"lemma\": \"ab\",\n",
       "    \"upos\": \"DET\",\n",
       "    \"xpos\": \"DET\",\n",
       "    \"feats\": \"Definite=Ind|NounClass=Wol5|Number=Sing|PronType=Art\",\n",
       "    \"head\": 19,\n",
       "    \"deprel\": \"det\",\n",
       "    \"misc\": \"start_char=73|end_char=75\"\n",
       "  },\n",
       "  {\n",
       "    \"id\": 19,\n",
       "    \"text\": \"balluwaayam\",\n",
       "    \"lemma\": \"balluwaay\",\n",
       "    \"upos\": \"NOUN\",\n",
       "    \"xpos\": \"NOUN\",\n",
       "    \"feats\": \"Number=Sing|Poss=Yes\",\n",
       "    \"head\": 20,\n",
       "    \"deprel\": \"nsubj\",\n",
       "    \"misc\": \"start_char=76|end_char=87\"\n",
       "  },\n",
       "  {\n",
       "    \"id\": 20,\n",
       "    \"text\": \"bawoo\",\n",
       "    \"lemma\": \"bawoo\",\n",
       "    \"upos\": \"VERB\",\n",
       "    \"xpos\": \"VERB\",\n",
       "    \"feats\": \"Mood=Ind|VerbForm=Fin\",\n",
       "    \"head\": 4,\n",
       "    \"deprel\": \"conj\",\n",
       "    \"misc\": \"start_char=88|end_char=93\"\n",
       "  },\n",
       "  {\n",
       "    \"id\": 21,\n",
       "    \"text\": \"ca\",\n",
       "    \"lemma\": \"ca\",\n",
       "    \"upos\": \"ADP\",\n",
       "    \"xpos\": \"PREP\",\n",
       "    \"head\": 22,\n",
       "    \"deprel\": \"case\",\n",
       "    \"misc\": \"start_char=94|end_char=96\"\n",
       "  },\n",
       "  {\n",
       "    \"id\": 22,\n",
       "    \"text\": \"Fuuta\",\n",
       "    \"lemma\": \"Fuuta\",\n",
       "    \"upos\": \"PROPN\",\n",
       "    \"xpos\": \"NAME\",\n",
       "    \"head\": 20,\n",
       "    \"deprel\": \"obl\",\n",
       "    \"misc\": \"start_char=97|end_char=102\"\n",
       "  },\n",
       "  {\n",
       "    \"id\": 23,\n",
       "    \"text\": \"Jallon\",\n",
       "    \"lemma\": \"Jallon\",\n",
       "    \"upos\": \"PROPN\",\n",
       "    \"xpos\": \"NAME\",\n",
       "    \"head\": 22,\n",
       "    \"deprel\": \"flat\",\n",
       "    \"misc\": \"start_char=103|end_char=109\"\n",
       "  },\n",
       "  {\n",
       "    \"id\": 24,\n",
       "    \"text\": \"ca\",\n",
       "    \"lemma\": \"ca\",\n",
       "    \"upos\": \"ADP\",\n",
       "    \"xpos\": \"PREP\",\n",
       "    \"head\": 25,\n",
       "    \"deprel\": \"case\",\n",
       "    \"misc\": \"start_char=110|end_char=112\"\n",
       "  },\n",
       "  {\n",
       "    \"id\": 25,\n",
       "    \"text\": \"Ginne\",\n",
       "    \"lemma\": \"Ginne\",\n",
       "    \"upos\": \"PROPN\",\n",
       "    \"xpos\": \"NAME\",\n",
       "    \"head\": 20,\n",
       "    \"deprel\": \"obl\",\n",
       "    \"misc\": \"start_char=113|end_char=118\"\n",
       "  },\n",
       "  {\n",
       "    \"id\": 26,\n",
       "    \"text\": \",\",\n",
       "    \"lemma\": \",\",\n",
       "    \"upos\": \"PUNCT\",\n",
       "    \"xpos\": \"COMMA\",\n",
       "    \"head\": 28,\n",
       "    \"deprel\": \"punct\",\n",
       "    \"misc\": \"start_char=118|end_char=119\"\n",
       "  },\n",
       "  {\n",
       "    \"id\": 27,\n",
       "    \"text\": \"di\",\n",
       "    \"lemma\": \"di\",\n",
       "    \"upos\": \"AUX\",\n",
       "    \"xpos\": \"COP\",\n",
       "    \"feats\": \"Aspect=Imp|Mood=Ind|Tense=Pres|VerbForm=Fin\",\n",
       "    \"head\": 28,\n",
       "    \"deprel\": \"cop\",\n",
       "    \"misc\": \"start_char=120|end_char=122\"\n",
       "  },\n",
       "  {\n",
       "    \"id\": 28,\n",
       "    \"text\": \"Dexug\",\n",
       "    \"lemma\": \"dex\",\n",
       "    \"upos\": \"NOUN\",\n",
       "    \"xpos\": \"NOUN\",\n",
       "    \"feats\": \"Case=Gen|Number=Sing\",\n",
       "    \"head\": 22,\n",
       "    \"deprel\": \"appos\",\n",
       "    \"misc\": \"start_char=123|end_char=128\"\n",
       "  },\n",
       "  {\n",
       "    \"id\": 29,\n",
       "    \"text\": \"Senegaal\",\n",
       "    \"lemma\": \"Senegaal\",\n",
       "    \"upos\": \"PROPN\",\n",
       "    \"xpos\": \"NAME\",\n",
       "    \"head\": 28,\n",
       "    \"deprel\": \"nmod\",\n",
       "    \"misc\": \"start_char=129|end_char=137\"\n",
       "  },\n",
       "  {\n",
       "    \"id\": 30,\n",
       "    \"text\": \".\",\n",
       "    \"lemma\": \".\",\n",
       "    \"upos\": \"PUNCT\",\n",
       "    \"xpos\": \"PERIOD\",\n",
       "    \"head\": 4,\n",
       "    \"deprel\": \"punct\",\n",
       "    \"misc\": \"start_char=137|end_char=138\"\n",
       "  }\n",
       "]"
      ]
     },
     "execution_count": 7,
     "metadata": {},
     "output_type": "execute_result"
    }
   ],
   "source": [
    "# Get the first item in the list of sentences\n",
    "doc_wo.sentences[0]"
   ]
  },
  {
   "cell_type": "markdown",
   "metadata": {},
   "source": [
    "Although the output contains both brackets `[]` and curly braces `{}`, which Python typically uses for marking lists and dictionaries, respectively, the output is not a list with nested dictionaries, but a Stanza [*Sentence*](https://stanfordnlp.github.io/stanza/data_objects.html#sentence) object."
   ]
  },
  {
   "cell_type": "code",
   "execution_count": 8,
   "metadata": {},
   "outputs": [
    {
     "data": {
      "text/plain": [
       "stanza.models.common.doc.Sentence"
      ]
     },
     "execution_count": 8,
     "metadata": {},
     "output_type": "execute_result"
    }
   ],
   "source": [
    "# Check the type of the first item in the Document object\n",
    "type(doc_wo.sentences[0])"
   ]
  },
  {
   "cell_type": "markdown",
   "metadata": {},
   "source": [
    "The *Sentence* object contains [various attributes and methods](https://stanfordnlp.github.io/stanza/data_objects.html#sentence) for accessing the linguistic annotations created by the language model.\n",
    "\n",
    "If we wish to interact with the annotations using data structures native to Python, we can use the `to_dict()` method to cast the annotations into a list of dictionaries, in which each dictionary stands for a single Stanza [*Token*](https://stanfordnlp.github.io/stanza/data_objects.html#token) object.\n",
    "\n",
    "The *key* and *value* pairs in these dictionaries contain the linguistic annotations for each *Token*."
   ]
  },
  {
   "cell_type": "code",
   "execution_count": 9,
   "metadata": {},
   "outputs": [
    {
     "data": {
      "text/plain": [
       "{'id': 1,\n",
       " 'text': 'Réew',\n",
       " 'lemma': 'réew',\n",
       " 'upos': 'NOUN',\n",
       " 'xpos': 'NOUN',\n",
       " 'head': 4,\n",
       " 'deprel': 'nsubj',\n",
       " 'misc': 'start_char=0|end_char=4'}"
      ]
     },
     "execution_count": 9,
     "metadata": {},
     "output_type": "execute_result"
    }
   ],
   "source": [
    "# Cast the first Sentence object into a Python dictionary; store under variable 'doc_dict'\n",
    "doc_dict = doc_wo.sentences[0].to_dict()\n",
    "\n",
    "# Get the dictionary for the first Token\n",
    "doc_dict[0]"
   ]
  },
  {
   "cell_type": "markdown",
   "metadata": {},
   "source": [
    "As you can see, the dictionary consists of key and value pairs, which hold the linguistic annotations.\n",
    "\n",
    "We can retrieve a list of keys available for a Python dictionary using the `keys()` method."
   ]
  },
  {
   "cell_type": "code",
   "execution_count": 10,
   "metadata": {},
   "outputs": [
    {
     "data": {
      "text/plain": [
       "dict_keys(['id', 'text', 'lemma', 'upos', 'xpos', 'head', 'deprel', 'misc'])"
      ]
     },
     "execution_count": 10,
     "metadata": {},
     "output_type": "execute_result"
    }
   ],
   "source": [
    "# Get a list of keys for the first Token in the dictionary 'doc_dict'\n",
    "doc_dict[0].keys()"
   ]
  },
  {
   "cell_type": "markdown",
   "metadata": {},
   "source": [
    "Now that we have listed the keys, let's retrieve the value under the key `lemma`."
   ]
  },
  {
   "cell_type": "code",
   "execution_count": 11,
   "metadata": {},
   "outputs": [
    {
     "data": {
      "text/plain": [
       "'réew'"
      ]
     },
     "execution_count": 11,
     "metadata": {},
     "output_type": "execute_result"
    }
   ],
   "source": [
    "# Get the value under key 'lemma' for the first item [0] in the dictionary 'doc_dict'\n",
    "doc_dict[0]['lemma']"
   ]
  },
  {
   "cell_type": "markdown",
   "metadata": {},
   "source": [
    "This returns the lemma of the word \"réew\", which stands for \"country\"."
   ]
  },
  {
   "cell_type": "markdown",
   "metadata": {},
   "source": [
    "### Processing multiple texts using Stanza\n",
    "\n",
    "To process multiple documents with Stanza, the most efficent way is to first collect the documents as string objects into a Python list.\n",
    "\n",
    "Let's define a toy example with a couple of example documents in Wolof and store them as string objects into a list under the variable `str_docs`."
   ]
  },
  {
   "cell_type": "code",
   "execution_count": 12,
   "metadata": {},
   "outputs": [],
   "source": [
    "# Define a Python list consisting of two strings\n",
    "str_docs = ['Lislaam a ngi njëkk a tàbbi ci Senegaal ci diggante VIIIeelu xarnu ak IXeelu xarnu, ña ko fa dugal di ay yaxantukat yu araab-yu-berber.',\n",
    "            'Li ëpp ci gëstu yi ñu def ci wàllug Gëstu-askan (walla demogaraafi) ci Senegaal dafa sukkandiku ci Waññ (recensement) yi ñu jotoon a def ci 1976, 1988 rawati na 2002.'] "
   ]
  },
  {
   "cell_type": "markdown",
   "metadata": {},
   "source": [
    "Next, we create a list of Stanza *Document* objects using a Python list comprehension. These *Document* objects are annotated for their linguistic features when they are passed through a *Pipeline* object.\n",
    "\n",
    "At this stage, we simply cast each string in the list `str_docs` to a Stanza *Document* object. We store the result into a list named `docs_wo_in`.\n",
    "\n",
    "Before proceeding to create the *Document* objects, let's examine how the list comprehension is structured by taking apart its syntax step by step.\n",
    "\n",
    "The list comprehension is like a `for` loop, which was introduced in [Part II](../part_ii/01_basic_text_processing.html#manipulating-text), which uses the contents of an existing list to create a new list.\n",
    "\n",
    "To begin with, just like lists, list comprehensions are marked using surrounding brackets `[]`.\n",
    "\n",
    "```python\n",
    "docs_wo_in = []\n",
    "```\n",
    "\n",
    "Next, on the right-hand side of the `for` statement, we use the variable `doc` to refer to items in the list `str_docs` that we are looping over.\n",
    "\n",
    "```python\n",
    "docs_wo_in = [... for doc in str_docs]\n",
    "```\n",
    "\n",
    "Now that we can refer to list items using the variable `doc`, we can define what we do to each item on the left-hand side of the `for` statement.\n",
    "\n",
    "```python\n",
    "docs_wo_in = [stanza.Document([], text=doc) for doc in str_docs]\n",
    "```\n",
    "\n",
    "For each item in the list `str_docs`, we initialise an empty `Document` object and pass two inputs to this object: \n",
    "\n",
    " 1. an empty list `[]` that will be populated with linguistic annotations, \n",
    " 2. the contents of the string variable under `doc` to the argument `text`. "
   ]
  },
  {
   "cell_type": "code",
   "execution_count": 13,
   "metadata": {},
   "outputs": [
    {
     "data": {
      "text/plain": [
       "[[], []]"
      ]
     },
     "execution_count": 13,
     "metadata": {},
     "output_type": "execute_result"
    }
   ],
   "source": [
    "# Use a list comprehension to create a Python list with Stanza Document objects.\n",
    "docs_wo_in = [stanza.Document([], text=doc) for doc in str_docs]\n",
    "\n",
    "# Call the variable to check the output\n",
    "docs_wo_in"
   ]
  },
  {
   "cell_type": "markdown",
   "metadata": {},
   "source": [
    "Don't let the output fool you here: what looks like two empty Python lists nested within a list are actually Stanza *Document* objects.\n",
    "\n",
    "Let's use the brackets to access and examine the first *Document* object in the list `docs_wo_in`."
   ]
  },
  {
   "cell_type": "code",
   "execution_count": 14,
   "metadata": {},
   "outputs": [
    {
     "data": {
      "text/plain": [
       "stanza.models.common.doc.Document"
      ]
     },
     "execution_count": 14,
     "metadata": {},
     "output_type": "execute_result"
    }
   ],
   "source": [
    "# Check the type of the first item in the list 'docs_wo_in'\n",
    "type(docs_wo_in[0])"
   ]
  },
  {
   "cell_type": "markdown",
   "metadata": {},
   "source": [
    "As you can see, the object is indeed a Stanza *Document* object.\n",
    "\n",
    "We can verify that our input texts made it into this document by examining the `text` attribute."
   ]
  },
  {
   "cell_type": "code",
   "execution_count": 15,
   "metadata": {},
   "outputs": [
    {
     "data": {
      "text/plain": [
       "'Lislaam a ngi njëkk a tàbbi ci Senegaal ci diggante VIIIeelu xarnu ak IXeelu xarnu, ña ko fa dugal di ay yaxantukat yu araab-yu-berber.'"
      ]
     },
     "execution_count": 15,
     "metadata": {},
     "output_type": "execute_result"
    }
   ],
   "source": [
    "# Check the contents of the 'text' attribute under the \n",
    "# first Sentence in the list 'docs_wo_in'\n",
    "docs_wo_in[0].text"
   ]
  },
  {
   "cell_type": "markdown",
   "metadata": {},
   "source": [
    "Now that we have a list of Stanza *Document* objects, we can pass them all at once to the language model for annotation.\n",
    "\n",
    "This can be achieved by simply providing the list as input to the Wolof language model stored under `nlp_wo`.\n",
    "\n",
    "We then store the annotated Stanza *Document* objects under the variable `docs_wo_out`."
   ]
  },
  {
   "cell_type": "code",
   "execution_count": 16,
   "metadata": {
    "tags": [
     "output_scroll"
    ]
   },
   "outputs": [
    {
     "data": {
      "text/plain": [
       "[[\n",
       "   [\n",
       "     {\n",
       "       \"id\": 1,\n",
       "       \"text\": \"Lislaam\",\n",
       "       \"lemma\": \"Lislaam\",\n",
       "       \"upos\": \"PROPN\",\n",
       "       \"xpos\": \"NAME\",\n",
       "       \"head\": 4,\n",
       "       \"deprel\": \"nsubj\",\n",
       "       \"misc\": \"start_char=0|end_char=7\"\n",
       "     },\n",
       "     {\n",
       "       \"id\": 2,\n",
       "       \"text\": \"a\",\n",
       "       \"lemma\": \"a\",\n",
       "       \"upos\": \"AUX\",\n",
       "       \"xpos\": \"AUX\",\n",
       "       \"feats\": \"PronType=Prs\",\n",
       "       \"head\": 4,\n",
       "       \"deprel\": \"aux\",\n",
       "       \"misc\": \"start_char=8|end_char=9\"\n",
       "     },\n",
       "     {\n",
       "       \"id\": 3,\n",
       "       \"text\": \"ngi\",\n",
       "       \"lemma\": \"ngi\",\n",
       "       \"upos\": \"AUX\",\n",
       "       \"xpos\": \"AUX\",\n",
       "       \"feats\": \"Aspect=Prog\",\n",
       "       \"head\": 4,\n",
       "       \"deprel\": \"aux\",\n",
       "       \"misc\": \"start_char=10|end_char=13\"\n",
       "     },\n",
       "     {\n",
       "       \"id\": 4,\n",
       "       \"text\": \"njëkk\",\n",
       "       \"lemma\": \"njëkk\",\n",
       "       \"upos\": \"VERB\",\n",
       "       \"xpos\": \"VERB\",\n",
       "       \"feats\": \"Mood=Ind|VerbForm=Fin\",\n",
       "       \"head\": 0,\n",
       "       \"deprel\": \"root\",\n",
       "       \"misc\": \"start_char=14|end_char=19\"\n",
       "     },\n",
       "     {\n",
       "       \"id\": 5,\n",
       "       \"text\": \"a\",\n",
       "       \"lemma\": \"a\",\n",
       "       \"upos\": \"PART\",\n",
       "       \"xpos\": \"PART\",\n",
       "       \"head\": 6,\n",
       "       \"deprel\": \"mark\",\n",
       "       \"misc\": \"start_char=20|end_char=21\"\n",
       "     },\n",
       "     {\n",
       "       \"id\": 6,\n",
       "       \"text\": \"tàbbi\",\n",
       "       \"lemma\": \"tàbbi\",\n",
       "       \"upos\": \"VERB\",\n",
       "       \"xpos\": \"VERB\",\n",
       "       \"feats\": \"VerbForm=Inf\",\n",
       "       \"head\": 4,\n",
       "       \"deprel\": \"xcomp\",\n",
       "       \"misc\": \"start_char=22|end_char=27\"\n",
       "     },\n",
       "     {\n",
       "       \"id\": 7,\n",
       "       \"text\": \"ci\",\n",
       "       \"lemma\": \"ci\",\n",
       "       \"upos\": \"ADP\",\n",
       "       \"xpos\": \"PREP\",\n",
       "       \"head\": 8,\n",
       "       \"deprel\": \"case\",\n",
       "       \"misc\": \"start_char=28|end_char=30\"\n",
       "     },\n",
       "     {\n",
       "       \"id\": 8,\n",
       "       \"text\": \"Senegaal\",\n",
       "       \"lemma\": \"Senegaal\",\n",
       "       \"upos\": \"PROPN\",\n",
       "       \"xpos\": \"NAME\",\n",
       "       \"head\": 6,\n",
       "       \"deprel\": \"obl\",\n",
       "       \"misc\": \"start_char=31|end_char=39\"\n",
       "     },\n",
       "     {\n",
       "       \"id\": 9,\n",
       "       \"text\": \"ci\",\n",
       "       \"lemma\": \"ci\",\n",
       "       \"upos\": \"ADP\",\n",
       "       \"xpos\": \"PREP\",\n",
       "       \"head\": 11,\n",
       "       \"deprel\": \"case\",\n",
       "       \"misc\": \"start_char=40|end_char=42\"\n",
       "     },\n",
       "     {\n",
       "       \"id\": 10,\n",
       "       \"text\": \"diggante\",\n",
       "       \"lemma\": \"diggante\",\n",
       "       \"upos\": \"NOUN\",\n",
       "       \"xpos\": \"NOUN\",\n",
       "       \"head\": 9,\n",
       "       \"deprel\": \"fixed\",\n",
       "       \"misc\": \"start_char=43|end_char=51\"\n",
       "     },\n",
       "     {\n",
       "       \"id\": 11,\n",
       "       \"text\": \"VIIIeelu\",\n",
       "       \"lemma\": \"VIIIeelu\",\n",
       "       \"upos\": \"PROPN\",\n",
       "       \"xpos\": \"NAME\",\n",
       "       \"head\": 8,\n",
       "       \"deprel\": \"nmod\",\n",
       "       \"misc\": \"start_char=52|end_char=60\"\n",
       "     },\n",
       "     {\n",
       "       \"id\": 12,\n",
       "       \"text\": \"xarnu\",\n",
       "       \"lemma\": \"xarnu\",\n",
       "       \"upos\": \"NOUN\",\n",
       "       \"xpos\": \"NOUN\",\n",
       "       \"head\": 11,\n",
       "       \"deprel\": \"nmod\",\n",
       "       \"misc\": \"start_char=61|end_char=66\"\n",
       "     },\n",
       "     {\n",
       "       \"id\": 13,\n",
       "       \"text\": \"ak\",\n",
       "       \"lemma\": \"ak\",\n",
       "       \"upos\": \"CCONJ\",\n",
       "       \"xpos\": \"CONJ\",\n",
       "       \"head\": 15,\n",
       "       \"deprel\": \"cc\",\n",
       "       \"misc\": \"start_char=67|end_char=69\"\n",
       "     },\n",
       "     {\n",
       "       \"id\": 14,\n",
       "       \"text\": \"IXeelu\",\n",
       "       \"lemma\": \"jXeel\",\n",
       "       \"upos\": \"NUM\",\n",
       "       \"xpos\": \"NUMBER\",\n",
       "       \"feats\": \"NumType=Ord\",\n",
       "       \"head\": 15,\n",
       "       \"deprel\": \"nummod\",\n",
       "       \"misc\": \"start_char=70|end_char=76\"\n",
       "     },\n",
       "     {\n",
       "       \"id\": 15,\n",
       "       \"text\": \"xarnu\",\n",
       "       \"lemma\": \"xarnu\",\n",
       "       \"upos\": \"NOUN\",\n",
       "       \"xpos\": \"NOUN\",\n",
       "       \"head\": 12,\n",
       "       \"deprel\": \"conj\",\n",
       "       \"misc\": \"start_char=77|end_char=82\"\n",
       "     },\n",
       "     {\n",
       "       \"id\": 16,\n",
       "       \"text\": \",\",\n",
       "       \"lemma\": \",\",\n",
       "       \"upos\": \"PUNCT\",\n",
       "       \"xpos\": \"COMMA\",\n",
       "       \"head\": 17,\n",
       "       \"deprel\": \"punct\",\n",
       "       \"misc\": \"start_char=82|end_char=83\"\n",
       "     },\n",
       "     {\n",
       "       \"id\": 17,\n",
       "       \"text\": \"ña\",\n",
       "       \"lemma\": \"ba\",\n",
       "       \"upos\": \"PRON\",\n",
       "       \"xpos\": \"PRON\",\n",
       "       \"feats\": \"Definite=Def|Deixis=Remt|NounClass=Wol2|Number=Plur|Person=3|PronType=Rel\",\n",
       "       \"head\": 12,\n",
       "       \"deprel\": \"appos\",\n",
       "       \"misc\": \"start_char=84|end_char=86\"\n",
       "     },\n",
       "     {\n",
       "       \"id\": 18,\n",
       "       \"text\": \"ko\",\n",
       "       \"lemma\": \"ko\",\n",
       "       \"upos\": \"PRON\",\n",
       "       \"xpos\": \"CL\",\n",
       "       \"feats\": \"Case=Acc|Number=Sing|Person=3|PronType=Prs\",\n",
       "       \"head\": 20,\n",
       "       \"deprel\": \"obj\",\n",
       "       \"misc\": \"start_char=87|end_char=89\"\n",
       "     },\n",
       "     {\n",
       "       \"id\": 19,\n",
       "       \"text\": \"fa\",\n",
       "       \"lemma\": \"fa\",\n",
       "       \"upos\": \"ADV\",\n",
       "       \"xpos\": \"ADV\",\n",
       "       \"feats\": \"Deixis=Remt|NounClass=Wol11|PronType=Dem\",\n",
       "       \"head\": 20,\n",
       "       \"deprel\": \"advmod\",\n",
       "       \"misc\": \"start_char=90|end_char=92\"\n",
       "     },\n",
       "     {\n",
       "       \"id\": 20,\n",
       "       \"text\": \"dugal\",\n",
       "       \"lemma\": \"dugal\",\n",
       "       \"upos\": \"VERB\",\n",
       "       \"xpos\": \"VERB\",\n",
       "       \"feats\": \"Mood=Ind|VerbForm=Fin\",\n",
       "       \"head\": 17,\n",
       "       \"deprel\": \"acl:relcl\",\n",
       "       \"misc\": \"start_char=93|end_char=98\"\n",
       "     },\n",
       "     {\n",
       "       \"id\": 21,\n",
       "       \"text\": \"di\",\n",
       "       \"lemma\": \"di\",\n",
       "       \"upos\": \"AUX\",\n",
       "       \"xpos\": \"COP\",\n",
       "       \"feats\": \"Aspect=Imp|Mood=Ind|Tense=Pres|VerbForm=Fin\",\n",
       "       \"head\": 23,\n",
       "       \"deprel\": \"cop\",\n",
       "       \"misc\": \"start_char=99|end_char=101\"\n",
       "     },\n",
       "     {\n",
       "       \"id\": 22,\n",
       "       \"text\": \"ay\",\n",
       "       \"lemma\": \"ab\",\n",
       "       \"upos\": \"DET\",\n",
       "       \"xpos\": \"DET\",\n",
       "       \"feats\": \"Definite=Ind|NounClass=Wol8|Number=Plur|PronType=Art\",\n",
       "       \"head\": 23,\n",
       "       \"deprel\": \"det\",\n",
       "       \"misc\": \"start_char=102|end_char=104\"\n",
       "     },\n",
       "     {\n",
       "       \"id\": 23,\n",
       "       \"text\": \"yaxantukat\",\n",
       "       \"lemma\": \"yaxantukat\",\n",
       "       \"upos\": \"NOUN\",\n",
       "       \"xpos\": \"NOUN\",\n",
       "       \"head\": 20,\n",
       "       \"deprel\": \"obl\",\n",
       "       \"misc\": \"start_char=105|end_char=115\"\n",
       "     },\n",
       "     {\n",
       "       \"id\": 24,\n",
       "       \"text\": \"yu\",\n",
       "       \"lemma\": \"yu\",\n",
       "       \"upos\": \"ADP\",\n",
       "       \"xpos\": \"PREP\",\n",
       "       \"head\": 25,\n",
       "       \"deprel\": \"case\",\n",
       "       \"misc\": \"start_char=116|end_char=118\"\n",
       "     },\n",
       "     {\n",
       "       \"id\": 25,\n",
       "       \"text\": \"araab-yu-berber\",\n",
       "       \"lemma\": \"araab-yu-berber\",\n",
       "       \"upos\": \"NOUN\",\n",
       "       \"xpos\": \"NOUN\",\n",
       "       \"head\": 23,\n",
       "       \"deprel\": \"nmod\",\n",
       "       \"misc\": \"start_char=119|end_char=134\"\n",
       "     },\n",
       "     {\n",
       "       \"id\": 26,\n",
       "       \"text\": \".\",\n",
       "       \"lemma\": \".\",\n",
       "       \"upos\": \"PUNCT\",\n",
       "       \"xpos\": \"PERIOD\",\n",
       "       \"head\": 4,\n",
       "       \"deprel\": \"punct\",\n",
       "       \"misc\": \"start_char=134|end_char=135\"\n",
       "     }\n",
       "   ]\n",
       " ],\n",
       " [\n",
       "   [\n",
       "     {\n",
       "       \"id\": 1,\n",
       "       \"text\": \"Li\",\n",
       "       \"lemma\": \"bi\",\n",
       "       \"upos\": \"PRON\",\n",
       "       \"xpos\": \"PRON\",\n",
       "       \"feats\": \"Definite=Def|Deixis=Prox|NounClass=Wol7|Number=Sing|Person=3|PronType=Rel\",\n",
       "       \"head\": 19,\n",
       "       \"deprel\": \"dislocated\",\n",
       "       \"misc\": \"start_char=0|end_char=2\"\n",
       "     },\n",
       "     {\n",
       "       \"id\": 2,\n",
       "       \"text\": \"ëpp\",\n",
       "       \"lemma\": \"ëpp\",\n",
       "       \"upos\": \"VERB\",\n",
       "       \"xpos\": \"VERB\",\n",
       "       \"feats\": \"Mood=Ind|VerbForm=Fin\",\n",
       "       \"head\": 1,\n",
       "       \"deprel\": \"acl:relcl\",\n",
       "       \"misc\": \"start_char=3|end_char=6\"\n",
       "     },\n",
       "     {\n",
       "       \"id\": 3,\n",
       "       \"text\": \"ci\",\n",
       "       \"lemma\": \"ci\",\n",
       "       \"upos\": \"ADP\",\n",
       "       \"xpos\": \"PREP\",\n",
       "       \"head\": 4,\n",
       "       \"deprel\": \"case\",\n",
       "       \"misc\": \"start_char=7|end_char=9\"\n",
       "     },\n",
       "     {\n",
       "       \"id\": 4,\n",
       "       \"text\": \"gëstu\",\n",
       "       \"lemma\": \"gëstu\",\n",
       "       \"upos\": \"NOUN\",\n",
       "       \"xpos\": \"NOUN\",\n",
       "       \"head\": 2,\n",
       "       \"deprel\": \"obl\",\n",
       "       \"misc\": \"start_char=10|end_char=15\"\n",
       "     },\n",
       "     {\n",
       "       \"id\": 5,\n",
       "       \"text\": \"yi\",\n",
       "       \"lemma\": \"bi\",\n",
       "       \"upos\": \"PRON\",\n",
       "       \"xpos\": \"PRON\",\n",
       "       \"feats\": \"Definite=Def|Deixis=Prox|NounClass=Wol8|Number=Plur|Person=3|PronType=Rel\",\n",
       "       \"head\": 7,\n",
       "       \"deprel\": \"obj\",\n",
       "       \"misc\": \"start_char=16|end_char=18\"\n",
       "     },\n",
       "     {\n",
       "       \"id\": 6,\n",
       "       \"text\": \"ñu\",\n",
       "       \"lemma\": \"mu\",\n",
       "       \"upos\": \"PRON\",\n",
       "       \"xpos\": \"PRON\",\n",
       "       \"feats\": \"Case=Nom|Number=Plur|Person=3|PronType=Prs\",\n",
       "       \"head\": 7,\n",
       "       \"deprel\": \"nsubj\",\n",
       "       \"misc\": \"start_char=19|end_char=21\"\n",
       "     },\n",
       "     {\n",
       "       \"id\": 7,\n",
       "       \"text\": \"def\",\n",
       "       \"lemma\": \"def\",\n",
       "       \"upos\": \"VERB\",\n",
       "       \"xpos\": \"VERB\",\n",
       "       \"feats\": \"Mood=Ind|VerbForm=Fin\",\n",
       "       \"head\": 4,\n",
       "       \"deprel\": \"acl:relcl\",\n",
       "       \"misc\": \"start_char=22|end_char=25\"\n",
       "     },\n",
       "     {\n",
       "       \"id\": 8,\n",
       "       \"text\": \"ci\",\n",
       "       \"lemma\": \"ci\",\n",
       "       \"upos\": \"ADP\",\n",
       "       \"xpos\": \"PREP\",\n",
       "       \"head\": 9,\n",
       "       \"deprel\": \"case\",\n",
       "       \"misc\": \"start_char=26|end_char=28\"\n",
       "     },\n",
       "     {\n",
       "       \"id\": 9,\n",
       "       \"text\": \"wàllug\",\n",
       "       \"lemma\": \"wàll\",\n",
       "       \"upos\": \"NOUN\",\n",
       "       \"xpos\": \"NOUN\",\n",
       "       \"feats\": \"Case=Gen|Number=Sing\",\n",
       "       \"head\": 7,\n",
       "       \"deprel\": \"obl\",\n",
       "       \"misc\": \"start_char=29|end_char=35\"\n",
       "     },\n",
       "     {\n",
       "       \"id\": 10,\n",
       "       \"text\": \"Gëstu-askan\",\n",
       "       \"lemma\": \"Gëstu-askan\",\n",
       "       \"upos\": \"PROPN\",\n",
       "       \"xpos\": \"NAME\",\n",
       "       \"head\": 9,\n",
       "       \"deprel\": \"nmod\",\n",
       "       \"misc\": \"start_char=36|end_char=47\"\n",
       "     },\n",
       "     {\n",
       "       \"id\": 11,\n",
       "       \"text\": \"(\",\n",
       "       \"lemma\": \"(\",\n",
       "       \"upos\": \"PUNCT\",\n",
       "       \"xpos\": \"PAREN\",\n",
       "       \"head\": 13,\n",
       "       \"deprel\": \"punct\",\n",
       "       \"misc\": \"start_char=48|end_char=49\"\n",
       "     },\n",
       "     {\n",
       "       \"id\": 12,\n",
       "       \"text\": \"walla\",\n",
       "       \"lemma\": \"walla\",\n",
       "       \"upos\": \"CCONJ\",\n",
       "       \"xpos\": \"CONJ\",\n",
       "       \"head\": 13,\n",
       "       \"deprel\": \"cc\",\n",
       "       \"misc\": \"start_char=49|end_char=54\"\n",
       "     },\n",
       "     {\n",
       "       \"id\": 13,\n",
       "       \"text\": \"demogaraafi\",\n",
       "       \"lemma\": \"demogaraafi\",\n",
       "       \"upos\": \"NOUN\",\n",
       "       \"xpos\": \"NOUN\",\n",
       "       \"head\": 9,\n",
       "       \"deprel\": \"appos\",\n",
       "       \"misc\": \"start_char=55|end_char=66\"\n",
       "     },\n",
       "     {\n",
       "       \"id\": 14,\n",
       "       \"text\": \")\",\n",
       "       \"lemma\": \")\",\n",
       "       \"upos\": \"PUNCT\",\n",
       "       \"xpos\": \"PAREN\",\n",
       "       \"head\": 13,\n",
       "       \"deprel\": \"punct\",\n",
       "       \"misc\": \"start_char=66|end_char=67\"\n",
       "     },\n",
       "     {\n",
       "       \"id\": 15,\n",
       "       \"text\": \"ci\",\n",
       "       \"lemma\": \"ci\",\n",
       "       \"upos\": \"ADP\",\n",
       "       \"xpos\": \"PREP\",\n",
       "       \"head\": 16,\n",
       "       \"deprel\": \"case\",\n",
       "       \"misc\": \"start_char=68|end_char=70\"\n",
       "     },\n",
       "     {\n",
       "       \"id\": 16,\n",
       "       \"text\": \"Senegaal\",\n",
       "       \"lemma\": \"Senegaal\",\n",
       "       \"upos\": \"PROPN\",\n",
       "       \"xpos\": \"NAME\",\n",
       "       \"head\": 19,\n",
       "       \"deprel\": \"obl\",\n",
       "       \"misc\": \"start_char=71|end_char=79\"\n",
       "     },\n",
       "     {\n",
       "       \"id\": [\n",
       "         17,\n",
       "         18\n",
       "       ],\n",
       "       \"text\": \"dafa\",\n",
       "       \"misc\": \"start_char=80|end_char=84\"\n",
       "     },\n",
       "     {\n",
       "       \"id\": 17,\n",
       "       \"text\": \"da\",\n",
       "       \"lemma\": \"da\",\n",
       "       \"upos\": \"AUX\",\n",
       "       \"xpos\": \"INFL\",\n",
       "       \"feats\": \"FocusType=Verb|Mood=Ind\",\n",
       "       \"head\": 19,\n",
       "       \"deprel\": \"aux\"\n",
       "     },\n",
       "     {\n",
       "       \"id\": 18,\n",
       "       \"text\": \"mu\",\n",
       "       \"lemma\": \"mu\",\n",
       "       \"upos\": \"PRON\",\n",
       "       \"xpos\": \"PRON\",\n",
       "       \"feats\": \"Case=Nom|Number=Sing|Person=3|PronType=Prs\",\n",
       "       \"head\": 19,\n",
       "       \"deprel\": \"nsubj\"\n",
       "     },\n",
       "     {\n",
       "       \"id\": 19,\n",
       "       \"text\": \"sukkandiku\",\n",
       "       \"lemma\": \"sukkandiku\",\n",
       "       \"upos\": \"VERB\",\n",
       "       \"xpos\": \"VERB\",\n",
       "       \"feats\": \"Mood=Ind|VerbForm=Fin\",\n",
       "       \"head\": 0,\n",
       "       \"deprel\": \"root\",\n",
       "       \"misc\": \"start_char=85|end_char=95\"\n",
       "     },\n",
       "     {\n",
       "       \"id\": 20,\n",
       "       \"text\": \"ci\",\n",
       "       \"lemma\": \"ci\",\n",
       "       \"upos\": \"ADP\",\n",
       "       \"xpos\": \"PREP\",\n",
       "       \"head\": 21,\n",
       "       \"deprel\": \"case\",\n",
       "       \"misc\": \"start_char=96|end_char=98\"\n",
       "     },\n",
       "     {\n",
       "       \"id\": 21,\n",
       "       \"text\": \"Waññ\",\n",
       "       \"lemma\": \"waññ\",\n",
       "       \"upos\": \"NOUN\",\n",
       "       \"xpos\": \"NOUN\",\n",
       "       \"head\": 19,\n",
       "       \"deprel\": \"obl\",\n",
       "       \"misc\": \"start_char=99|end_char=103\"\n",
       "     },\n",
       "     {\n",
       "       \"id\": 22,\n",
       "       \"text\": \"(\",\n",
       "       \"lemma\": \"(\",\n",
       "       \"upos\": \"PUNCT\",\n",
       "       \"xpos\": \"PAREN\",\n",
       "       \"head\": 23,\n",
       "       \"deprel\": \"punct\",\n",
       "       \"misc\": \"start_char=104|end_char=105\"\n",
       "     },\n",
       "     {\n",
       "       \"id\": 23,\n",
       "       \"text\": \"recensement\",\n",
       "       \"lemma\": \"recensement\",\n",
       "       \"upos\": \"NOUN\",\n",
       "       \"xpos\": \"NOUN\",\n",
       "       \"head\": 21,\n",
       "       \"deprel\": \"appos\",\n",
       "       \"misc\": \"start_char=105|end_char=116\"\n",
       "     },\n",
       "     {\n",
       "       \"id\": 24,\n",
       "       \"text\": \")\",\n",
       "       \"lemma\": \")\",\n",
       "       \"upos\": \"PUNCT\",\n",
       "       \"xpos\": \"PAREN\",\n",
       "       \"head\": 23,\n",
       "       \"deprel\": \"punct\",\n",
       "       \"misc\": \"start_char=116|end_char=117\"\n",
       "     },\n",
       "     {\n",
       "       \"id\": 25,\n",
       "       \"text\": \"yi\",\n",
       "       \"lemma\": \"bi\",\n",
       "       \"upos\": \"PRON\",\n",
       "       \"xpos\": \"PRON\",\n",
       "       \"feats\": \"Definite=Def|Deixis=Prox|NounClass=Wol8|Number=Plur|Person=3|PronType=Rel\",\n",
       "       \"head\": 27,\n",
       "       \"deprel\": \"obj\",\n",
       "       \"misc\": \"start_char=118|end_char=120\"\n",
       "     },\n",
       "     {\n",
       "       \"id\": 26,\n",
       "       \"text\": \"ñu\",\n",
       "       \"lemma\": \"mu\",\n",
       "       \"upos\": \"PRON\",\n",
       "       \"xpos\": \"PRON\",\n",
       "       \"feats\": \"Case=Nom|Number=Plur|Person=3|PronType=Prs\",\n",
       "       \"head\": 27,\n",
       "       \"deprel\": \"nsubj\",\n",
       "       \"misc\": \"start_char=121|end_char=123\"\n",
       "     },\n",
       "     {\n",
       "       \"id\": 27,\n",
       "       \"text\": \"jotoon\",\n",
       "       \"lemma\": \"jot\",\n",
       "       \"upos\": \"VERB\",\n",
       "       \"xpos\": \"VERB\",\n",
       "       \"feats\": \"Mood=Ind|Tense=Past|VerbForm=Fin\",\n",
       "       \"head\": 21,\n",
       "       \"deprel\": \"acl:relcl\",\n",
       "       \"misc\": \"start_char=124|end_char=130\"\n",
       "     },\n",
       "     {\n",
       "       \"id\": 28,\n",
       "       \"text\": \"a\",\n",
       "       \"lemma\": \"a\",\n",
       "       \"upos\": \"PART\",\n",
       "       \"xpos\": \"PART\",\n",
       "       \"head\": 29,\n",
       "       \"deprel\": \"mark\",\n",
       "       \"misc\": \"start_char=131|end_char=132\"\n",
       "     },\n",
       "     {\n",
       "       \"id\": 29,\n",
       "       \"text\": \"def\",\n",
       "       \"lemma\": \"def\",\n",
       "       \"upos\": \"VERB\",\n",
       "       \"xpos\": \"VERB\",\n",
       "       \"feats\": \"VerbForm=Inf\",\n",
       "       \"head\": 27,\n",
       "       \"deprel\": \"xcomp\",\n",
       "       \"misc\": \"start_char=133|end_char=136\"\n",
       "     },\n",
       "     {\n",
       "       \"id\": 30,\n",
       "       \"text\": \"ci\",\n",
       "       \"lemma\": \"ci\",\n",
       "       \"upos\": \"ADP\",\n",
       "       \"xpos\": \"PREP\",\n",
       "       \"head\": 31,\n",
       "       \"deprel\": \"case\",\n",
       "       \"misc\": \"start_char=137|end_char=139\"\n",
       "     },\n",
       "     {\n",
       "       \"id\": 31,\n",
       "       \"text\": \"1976\",\n",
       "       \"lemma\": \"1976\",\n",
       "       \"upos\": \"NUM\",\n",
       "       \"xpos\": \"NUMBER\",\n",
       "       \"feats\": \"NumType=Card\",\n",
       "       \"head\": 29,\n",
       "       \"deprel\": \"obl\",\n",
       "       \"misc\": \"start_char=140|end_char=144\"\n",
       "     },\n",
       "     {\n",
       "       \"id\": 32,\n",
       "       \"text\": \",\",\n",
       "       \"lemma\": \",\",\n",
       "       \"upos\": \"PUNCT\",\n",
       "       \"xpos\": \"COMMA\",\n",
       "       \"head\": 34,\n",
       "       \"deprel\": \"punct\",\n",
       "       \"misc\": \"start_char=144|end_char=145\"\n",
       "     },\n",
       "     {\n",
       "       \"id\": 33,\n",
       "       \"text\": \"1988\",\n",
       "       \"lemma\": \"1988\",\n",
       "       \"upos\": \"NUM\",\n",
       "       \"xpos\": \"NUMBER\",\n",
       "       \"feats\": \"NumType=Card\",\n",
       "       \"head\": 34,\n",
       "       \"deprel\": \"nsubj\",\n",
       "       \"misc\": \"start_char=146|end_char=150\"\n",
       "     },\n",
       "     {\n",
       "       \"id\": 34,\n",
       "       \"text\": \"rawati\",\n",
       "       \"lemma\": \"rawati\",\n",
       "       \"upos\": \"VERB\",\n",
       "       \"xpos\": \"VERB\",\n",
       "       \"feats\": \"Mood=Ind|VerbForm=Fin\",\n",
       "       \"head\": 29,\n",
       "       \"deprel\": \"ccomp\",\n",
       "       \"misc\": \"start_char=151|end_char=157\"\n",
       "     },\n",
       "     {\n",
       "       \"id\": 35,\n",
       "       \"text\": \"na\",\n",
       "       \"lemma\": \"na\",\n",
       "       \"upos\": \"AUX\",\n",
       "       \"xpos\": \"INFL\",\n",
       "       \"feats\": \"Aspect=Perf|Mood=Ind|Number=Sing|Person=3\",\n",
       "       \"head\": 34,\n",
       "       \"deprel\": \"aux\",\n",
       "       \"misc\": \"start_char=158|end_char=160\"\n",
       "     },\n",
       "     {\n",
       "       \"id\": 36,\n",
       "       \"text\": \"2002\",\n",
       "       \"lemma\": \"2002\",\n",
       "       \"upos\": \"NUM\",\n",
       "       \"xpos\": \"NUMBER\",\n",
       "       \"feats\": \"NumType=Card\",\n",
       "       \"head\": 34,\n",
       "       \"deprel\": \"obj\",\n",
       "       \"misc\": \"start_char=161|end_char=165\"\n",
       "     },\n",
       "     {\n",
       "       \"id\": 37,\n",
       "       \"text\": \".\",\n",
       "       \"lemma\": \".\",\n",
       "       \"upos\": \"PUNCT\",\n",
       "       \"xpos\": \"PERIOD\",\n",
       "       \"head\": 19,\n",
       "       \"deprel\": \"punct\",\n",
       "       \"misc\": \"start_char=165|end_char=166\"\n",
       "     }\n",
       "   ]\n",
       " ]]"
      ]
     },
     "execution_count": 16,
     "metadata": {},
     "output_type": "execute_result"
    }
   ],
   "source": [
    "# Pass the list of Document objects to the language model 'nlp_wo'\n",
    "# for annotation.\n",
    "docs_wo_out = nlp_wo(docs_wo_in)\n",
    "\n",
    "# Call the variable to check the output\n",
    "docs_wo_out"
   ]
  },
  {
   "cell_type": "markdown",
   "metadata": {},
   "source": [
    "As you can see, passing the *Document* objects to the language model populates them with linguistic annotations, which can be then explored as introduced [above](#Processing-text-using-Stanza)."
   ]
  },
  {
   "cell_type": "markdown",
   "metadata": {},
   "source": [
    "## Interfacing Stanza with spaCy\n",
    "\n",
    "If you are more familiar with the spaCy library for natural language processing, whose use was covered extensively in [Part II](../part_ii/03_basic_nlp.ipynb), then you will be happy to know that you can also use some of the Stanza language models in spaCy!\n",
    "\n",
    "This can be achieved using a Python library named [spacy-stanza](https://spacy.io/universe/project/spacy-stanza), which interfaces the two libraries.\n",
    "\n",
    "Given that Stanza currently has more pre-trained language models available than spaCy, the spacy-stanza library considerably increases the number of language models available for spaCy.\n",
    "\n",
    "There is, however, **one major limitation**: the language in question must be supported by both [Stanza](https://stanfordnlp.github.io/stanza/available_models.html) and [spaCy](https://spacy.io/usage/models#languages).\n",
    "\n",
    "For example, we cannot use the Stanza language model for Wolof in spaCy, because spaCy does not support the Wolof language.\n",
    "\n",
    "To start using Stanza language models in spaCy, let's start by importing the spacy-stanza library (module name: `spacy_stanza`)."
   ]
  },
  {
   "cell_type": "code",
   "execution_count": 17,
   "metadata": {},
   "outputs": [],
   "source": [
    "# Import the spaCy and spacy-stanza libraries\n",
    "import spacy\n",
    "import spacy_stanza"
   ]
  },
  {
   "cell_type": "markdown",
   "metadata": {},
   "source": [
    "This imports both spaCy and spacy-stanza libraries into Python. To continue, we must ensure that we the Stanza language model for Finnish available as well.\n",
    "\n",
    "As shown above, this model can be downloaded using the following command:\n",
    "\n",
    "```python\n",
    "# Download a Stanza language model for Finnish\n",
    "stanza.download(lang='fi')\n",
    "```"
   ]
  },
  {
   "cell_type": "markdown",
   "metadata": {
    "tags": [
     "remove-cell"
    ]
   },
   "source": [
    "Just as with the language model for Wolof above, we download the Stanza language model into the permanent storage on the CSC server.\n",
    "\n",
    "To do so, provide a string object that points towards the directory `../stanza_models` to the argument `model_dir` of the `download()` function."
   ]
  },
  {
   "cell_type": "code",
   "execution_count": 18,
   "metadata": {
    "tags": [
     "remove-cell"
    ]
   },
   "outputs": [
    {
     "name": "stderr",
     "output_type": "stream",
     "text": [
      "Downloading https://raw.githubusercontent.com/stanfordnlp/stanza-resources/master/resources_1.2.0.json: 128kB [00:00, 69.9MB/s]                    \n",
      "2021-03-18 12:50:34 INFO: Downloading default packages for language: fi (Finnish)...\n",
      "2021-03-18 12:50:34 INFO: File exists: ../stanza_models/fi/default.zip.\n",
      "2021-03-18 12:50:36 INFO: Finished downloading models and saved to ../stanza_models.\n"
     ]
    }
   ],
   "source": [
    "# Download a Stanza language model for Finnish into the directory '../stanza_models'\n",
    "stanza.download(lang='fi', model_dir='../stanza_models')"
   ]
  },
  {
   "cell_type": "markdown",
   "metadata": {},
   "source": [
    "Because spaCy supports [the Finnish language](https://spacy.io/usage/models#languages), we can load Stanza language models for Finnish into spaCy using the spacy-stanza library.\n",
    "\n",
    "This can be achieved using the `load_pipeline()` function available under the `spacy_stanza` module.\n",
    "\n",
    "To load Stanza language model for a given language, you must provide the two-letter code for the language in question (e.g. `fi`) to the argument `name`:\n",
    "\n",
    "```python\n",
    "# Load a Stanza language model for Finnish into spaCy\n",
    "nlp_fi = spacy_stanza.load_pipeline(name='fi')\n",
    "```"
   ]
  },
  {
   "cell_type": "markdown",
   "metadata": {
    "tags": [
     "remove-cell"
    ]
   },
   "source": [
    "Because we did not download the Stanza language models into the default directory, we must also provide the optional argument `dir` to the `load_pipeline()` function.\n",
    "\n",
    "The `dir` argument takes a string object as its input, which must point to the directory that contains Stanza language models."
   ]
  },
  {
   "cell_type": "code",
   "execution_count": 19,
   "metadata": {
    "tags": [
     "remove-cell"
    ]
   },
   "outputs": [
    {
     "name": "stderr",
     "output_type": "stream",
     "text": [
      "2021-03-18 12:50:36 INFO: Loading these models for language: fi (Finnish):\n",
      "=======================\n",
      "| Processor | Package |\n",
      "-----------------------\n",
      "| tokenize  | tdt     |\n",
      "| mwt       | tdt     |\n",
      "| pos       | tdt     |\n",
      "| lemma     | tdt     |\n",
      "| depparse  | tdt     |\n",
      "=======================\n",
      "\n",
      "2021-03-18 12:50:36 INFO: Use device: cpu\n",
      "2021-03-18 12:50:36 INFO: Loading: tokenize\n",
      "2021-03-18 12:50:36 INFO: Loading: mwt\n",
      "2021-03-18 12:50:36 INFO: Loading: pos\n",
      "2021-03-18 12:50:36 INFO: Loading: lemma\n",
      "2021-03-18 12:50:36 INFO: Loading: depparse\n",
      "2021-03-18 12:50:37 INFO: Done loading processors!\n"
     ]
    }
   ],
   "source": [
    "# Use the load_pipeline function to load a Stanza model into spaCy.\n",
    "# Assign the result under the variable 'nlp'.\n",
    "nlp_fi = spacy_stanza.load_pipeline(name='fi', dir='../stanza_models')"
   ]
  },
  {
   "cell_type": "markdown",
   "metadata": {},
   "source": [
    "If we examine the resulting object under the variable `nlp_fi` using Python's `type()` function, we will see that the object is indeed a spaCy *Language* object. "
   ]
  },
  {
   "cell_type": "code",
   "execution_count": 20,
   "metadata": {},
   "outputs": [
    {
     "data": {
      "text/plain": [
       "spacy.lang.fi.Finnish"
      ]
     },
     "execution_count": 20,
     "metadata": {},
     "output_type": "execute_result"
    }
   ],
   "source": [
    "# Check the type of the object under 'nlp_fi'\n",
    "type(nlp_fi)"
   ]
  },
  {
   "cell_type": "markdown",
   "metadata": {},
   "source": [
    "Generally, this object behaves just like any other spaCy *Language* object that we learned to use in [Part II](../part_ii/03_basic_nlp.ipynb#Performing-basic-NLP-tasks-using-spaCy).\n",
    "\n",
    "We can explore its use by processing a few sentences from a recent [news article](https://yle.fi/aihe/artikkeli/2021/03/08/yleiso-aanesti-tarja-halonen-on-inspiroivin-nainen-karkikolmikkoon-ylsivat-myos) in written Finnish.\n",
    "\n",
    "We feed the text as a string object to the *Language* object under `nlp_fi` and store the result under the variable `doc_fi`."
   ]
  },
  {
   "cell_type": "code",
   "execution_count": 21,
   "metadata": {},
   "outputs": [],
   "source": [
    "# Feed the text to the language model under 'nlp_fi', store result under 'doc_fi'\n",
    "doc_fi = nlp_fi('Tove Jansson keräsi 148 ääntä eli 18,2% annetuista äänistä. Kirjailija, kuvataiteilija ja pilapiirtäjä tuli kansainvälisesti tunnetuksi satukirjoistaan ja sarjakuvistaan.')"
   ]
  },
  {
   "cell_type": "markdown",
   "metadata": {},
   "source": [
    "Let's continue by retrieving sentences from the *Doc* object, which are available under the attribute `sents`, as we learned in [Part II](../part_ii/03_basic_nlp.ipynb#Sentence-segmentation).\n",
    "\n",
    "The object available under the `sents` attribute is a Python generator that yields *Doc* objects. \n",
    "\n",
    "To examine them, we must catch the objects into a suitable data structure. In this case, the data structure that best fits our needs is a Python list.\n",
    "\n",
    "Hence we cast the output from the generator object under `sents` into a list using the `list()` function."
   ]
  },
  {
   "cell_type": "code",
   "execution_count": 22,
   "metadata": {},
   "outputs": [
    {
     "data": {
      "text/plain": [
       "[Tove Jansson keräsi 148 ääntä eli 18,2% annetuista äänistä.,\n",
       " Kirjailija, kuvataiteilija ja pilapiirtäjä tuli kansainvälisesti tunnetuksi satukirjoistaan ja sarjakuvistaan.]"
      ]
     },
     "execution_count": 22,
     "metadata": {},
     "output_type": "execute_result"
    }
   ],
   "source": [
    "# Get sentences contained in the Doc object 'doc_fi'.\n",
    "# Cast the result into list.\n",
    "sents_fi = list(doc_fi.sents)\n",
    "\n",
    "# Call the variable to check the output\n",
    "sents_fi"
   ]
  },
  {
   "cell_type": "markdown",
   "metadata": {},
   "source": [
    "We can also use spaCy's `displacy` submodule to visualise the syntactic dependencies.\n",
    "\n",
    "To do so for the first sentence under `sents_fi`, we must first access the first item in the list using brackets `[0]` as usual.\n",
    "\n",
    "Let's start by checking the type of this object."
   ]
  },
  {
   "cell_type": "code",
   "execution_count": 23,
   "metadata": {},
   "outputs": [
    {
     "data": {
      "text/plain": [
       "spacy.tokens.span.Span"
      ]
     },
     "execution_count": 23,
     "metadata": {},
     "output_type": "execute_result"
    }
   ],
   "source": [
    "# Check the type of the first item in the list 'sents_fi'\n",
    "type(sents_fi[0])"
   ]
  },
  {
   "cell_type": "markdown",
   "metadata": {},
   "source": [
    "As you can see, the result is a spaCy *Span* object, which is a sequence of *Token* objects contained within a *Doc* object.\n",
    "\n",
    "We can then call the `render` function from the `displacy` submodule to visualise the syntactic dependencies for the *Span* object under `sents_fi[0]`."
   ]
  },
  {
   "cell_type": "code",
   "execution_count": 24,
   "metadata": {},
   "outputs": [
    {
     "name": "stderr",
     "output_type": "stream",
     "text": [
      "[2021-03-18 12:50:37,187] [WARNING] [W109] Unable to save user hooks while serializing the doc. Re-add any required user hooks to the doc after processing.\n"
     ]
    },
    {
     "data": {
      "text/html": [
       "<span class=\"tex2jax_ignore\"><svg xmlns=\"http://www.w3.org/2000/svg\" xmlns:xlink=\"http://www.w3.org/1999/xlink\" xml:lang=\"fi\" id=\"2d8ae57908b34d11bbcd48e38248515c-0\" class=\"displacy\" width=\"1625\" height=\"312.0\" direction=\"ltr\" style=\"max-width: none; height: 312.0px; color: #000000; background: #ffffff; font-family: Arial; direction: ltr\">\n",
       "<text class=\"displacy-token\" fill=\"currentColor\" text-anchor=\"middle\" y=\"222.0\">\n",
       "    <tspan class=\"displacy-word\" fill=\"currentColor\" x=\"50\">Tove</tspan>\n",
       "    <tspan class=\"displacy-tag\" dy=\"2em\" fill=\"currentColor\" x=\"50\">PROPN</tspan>\n",
       "</text>\n",
       "\n",
       "<text class=\"displacy-token\" fill=\"currentColor\" text-anchor=\"middle\" y=\"222.0\">\n",
       "    <tspan class=\"displacy-word\" fill=\"currentColor\" x=\"225\">Jansson</tspan>\n",
       "    <tspan class=\"displacy-tag\" dy=\"2em\" fill=\"currentColor\" x=\"225\">PROPN</tspan>\n",
       "</text>\n",
       "\n",
       "<text class=\"displacy-token\" fill=\"currentColor\" text-anchor=\"middle\" y=\"222.0\">\n",
       "    <tspan class=\"displacy-word\" fill=\"currentColor\" x=\"400\">keräsi</tspan>\n",
       "    <tspan class=\"displacy-tag\" dy=\"2em\" fill=\"currentColor\" x=\"400\">VERB</tspan>\n",
       "</text>\n",
       "\n",
       "<text class=\"displacy-token\" fill=\"currentColor\" text-anchor=\"middle\" y=\"222.0\">\n",
       "    <tspan class=\"displacy-word\" fill=\"currentColor\" x=\"575\">148</tspan>\n",
       "    <tspan class=\"displacy-tag\" dy=\"2em\" fill=\"currentColor\" x=\"575\">NUM</tspan>\n",
       "</text>\n",
       "\n",
       "<text class=\"displacy-token\" fill=\"currentColor\" text-anchor=\"middle\" y=\"222.0\">\n",
       "    <tspan class=\"displacy-word\" fill=\"currentColor\" x=\"750\">ääntä</tspan>\n",
       "    <tspan class=\"displacy-tag\" dy=\"2em\" fill=\"currentColor\" x=\"750\">NOUN</tspan>\n",
       "</text>\n",
       "\n",
       "<text class=\"displacy-token\" fill=\"currentColor\" text-anchor=\"middle\" y=\"222.0\">\n",
       "    <tspan class=\"displacy-word\" fill=\"currentColor\" x=\"925\">eli</tspan>\n",
       "    <tspan class=\"displacy-tag\" dy=\"2em\" fill=\"currentColor\" x=\"925\">CCONJ</tspan>\n",
       "</text>\n",
       "\n",
       "<text class=\"displacy-token\" fill=\"currentColor\" text-anchor=\"middle\" y=\"222.0\">\n",
       "    <tspan class=\"displacy-word\" fill=\"currentColor\" x=\"1100\">18,2%</tspan>\n",
       "    <tspan class=\"displacy-tag\" dy=\"2em\" fill=\"currentColor\" x=\"1100\">SYM</tspan>\n",
       "</text>\n",
       "\n",
       "<text class=\"displacy-token\" fill=\"currentColor\" text-anchor=\"middle\" y=\"222.0\">\n",
       "    <tspan class=\"displacy-word\" fill=\"currentColor\" x=\"1275\">annetuista</tspan>\n",
       "    <tspan class=\"displacy-tag\" dy=\"2em\" fill=\"currentColor\" x=\"1275\">VERB</tspan>\n",
       "</text>\n",
       "\n",
       "<text class=\"displacy-token\" fill=\"currentColor\" text-anchor=\"middle\" y=\"222.0\">\n",
       "    <tspan class=\"displacy-word\" fill=\"currentColor\" x=\"1450\">äänistä.</tspan>\n",
       "    <tspan class=\"displacy-tag\" dy=\"2em\" fill=\"currentColor\" x=\"1450\">NOUN</tspan>\n",
       "</text>\n",
       "\n",
       "<g class=\"displacy-arrow\">\n",
       "    <path class=\"displacy-arc\" id=\"arrow-2d8ae57908b34d11bbcd48e38248515c-0-0\" stroke-width=\"2px\" d=\"M70,177.0 C70,2.0 400.0,2.0 400.0,177.0\" fill=\"none\" stroke=\"currentColor\"/>\n",
       "    <text dy=\"1.25em\" style=\"font-size: 0.8em; letter-spacing: 1px\">\n",
       "        <textPath xlink:href=\"#arrow-2d8ae57908b34d11bbcd48e38248515c-0-0\" class=\"displacy-label\" startOffset=\"50%\" side=\"left\" fill=\"currentColor\" text-anchor=\"middle\">nsubj</textPath>\n",
       "    </text>\n",
       "    <path class=\"displacy-arrowhead\" d=\"M70,179.0 L62,167.0 78,167.0\" fill=\"currentColor\"/>\n",
       "</g>\n",
       "\n",
       "<g class=\"displacy-arrow\">\n",
       "    <path class=\"displacy-arc\" id=\"arrow-2d8ae57908b34d11bbcd48e38248515c-0-1\" stroke-width=\"2px\" d=\"M70,177.0 C70,89.5 220.0,89.5 220.0,177.0\" fill=\"none\" stroke=\"currentColor\"/>\n",
       "    <text dy=\"1.25em\" style=\"font-size: 0.8em; letter-spacing: 1px\">\n",
       "        <textPath xlink:href=\"#arrow-2d8ae57908b34d11bbcd48e38248515c-0-1\" class=\"displacy-label\" startOffset=\"50%\" side=\"left\" fill=\"currentColor\" text-anchor=\"middle\">flat:name</textPath>\n",
       "    </text>\n",
       "    <path class=\"displacy-arrowhead\" d=\"M220.0,179.0 L228.0,167.0 212.0,167.0\" fill=\"currentColor\"/>\n",
       "</g>\n",
       "\n",
       "<g class=\"displacy-arrow\">\n",
       "    <path class=\"displacy-arc\" id=\"arrow-2d8ae57908b34d11bbcd48e38248515c-0-2\" stroke-width=\"2px\" d=\"M595,177.0 C595,89.5 745.0,89.5 745.0,177.0\" fill=\"none\" stroke=\"currentColor\"/>\n",
       "    <text dy=\"1.25em\" style=\"font-size: 0.8em; letter-spacing: 1px\">\n",
       "        <textPath xlink:href=\"#arrow-2d8ae57908b34d11bbcd48e38248515c-0-2\" class=\"displacy-label\" startOffset=\"50%\" side=\"left\" fill=\"currentColor\" text-anchor=\"middle\">nummod</textPath>\n",
       "    </text>\n",
       "    <path class=\"displacy-arrowhead\" d=\"M595,179.0 L587,167.0 603,167.0\" fill=\"currentColor\"/>\n",
       "</g>\n",
       "\n",
       "<g class=\"displacy-arrow\">\n",
       "    <path class=\"displacy-arc\" id=\"arrow-2d8ae57908b34d11bbcd48e38248515c-0-3\" stroke-width=\"2px\" d=\"M420,177.0 C420,2.0 750.0,2.0 750.0,177.0\" fill=\"none\" stroke=\"currentColor\"/>\n",
       "    <text dy=\"1.25em\" style=\"font-size: 0.8em; letter-spacing: 1px\">\n",
       "        <textPath xlink:href=\"#arrow-2d8ae57908b34d11bbcd48e38248515c-0-3\" class=\"displacy-label\" startOffset=\"50%\" side=\"left\" fill=\"currentColor\" text-anchor=\"middle\">obj</textPath>\n",
       "    </text>\n",
       "    <path class=\"displacy-arrowhead\" d=\"M750.0,179.0 L758.0,167.0 742.0,167.0\" fill=\"currentColor\"/>\n",
       "</g>\n",
       "\n",
       "<g class=\"displacy-arrow\">\n",
       "    <path class=\"displacy-arc\" id=\"arrow-2d8ae57908b34d11bbcd48e38248515c-0-4\" stroke-width=\"2px\" d=\"M945,177.0 C945,89.5 1095.0,89.5 1095.0,177.0\" fill=\"none\" stroke=\"currentColor\"/>\n",
       "    <text dy=\"1.25em\" style=\"font-size: 0.8em; letter-spacing: 1px\">\n",
       "        <textPath xlink:href=\"#arrow-2d8ae57908b34d11bbcd48e38248515c-0-4\" class=\"displacy-label\" startOffset=\"50%\" side=\"left\" fill=\"currentColor\" text-anchor=\"middle\">cc</textPath>\n",
       "    </text>\n",
       "    <path class=\"displacy-arrowhead\" d=\"M945,179.0 L937,167.0 953,167.0\" fill=\"currentColor\"/>\n",
       "</g>\n",
       "\n",
       "<g class=\"displacy-arrow\">\n",
       "    <path class=\"displacy-arc\" id=\"arrow-2d8ae57908b34d11bbcd48e38248515c-0-5\" stroke-width=\"2px\" d=\"M770,177.0 C770,2.0 1100.0,2.0 1100.0,177.0\" fill=\"none\" stroke=\"currentColor\"/>\n",
       "    <text dy=\"1.25em\" style=\"font-size: 0.8em; letter-spacing: 1px\">\n",
       "        <textPath xlink:href=\"#arrow-2d8ae57908b34d11bbcd48e38248515c-0-5\" class=\"displacy-label\" startOffset=\"50%\" side=\"left\" fill=\"currentColor\" text-anchor=\"middle\">conj</textPath>\n",
       "    </text>\n",
       "    <path class=\"displacy-arrowhead\" d=\"M1100.0,179.0 L1108.0,167.0 1092.0,167.0\" fill=\"currentColor\"/>\n",
       "</g>\n",
       "\n",
       "<g class=\"displacy-arrow\">\n",
       "    <path class=\"displacy-arc\" id=\"arrow-2d8ae57908b34d11bbcd48e38248515c-0-6\" stroke-width=\"2px\" d=\"M1295,177.0 C1295,89.5 1445.0,89.5 1445.0,177.0\" fill=\"none\" stroke=\"currentColor\"/>\n",
       "    <text dy=\"1.25em\" style=\"font-size: 0.8em; letter-spacing: 1px\">\n",
       "        <textPath xlink:href=\"#arrow-2d8ae57908b34d11bbcd48e38248515c-0-6\" class=\"displacy-label\" startOffset=\"50%\" side=\"left\" fill=\"currentColor\" text-anchor=\"middle\">acl</textPath>\n",
       "    </text>\n",
       "    <path class=\"displacy-arrowhead\" d=\"M1295,179.0 L1287,167.0 1303,167.0\" fill=\"currentColor\"/>\n",
       "</g>\n",
       "\n",
       "<g class=\"displacy-arrow\">\n",
       "    <path class=\"displacy-arc\" id=\"arrow-2d8ae57908b34d11bbcd48e38248515c-0-7\" stroke-width=\"2px\" d=\"M1120,177.0 C1120,2.0 1450.0,2.0 1450.0,177.0\" fill=\"none\" stroke=\"currentColor\"/>\n",
       "    <text dy=\"1.25em\" style=\"font-size: 0.8em; letter-spacing: 1px\">\n",
       "        <textPath xlink:href=\"#arrow-2d8ae57908b34d11bbcd48e38248515c-0-7\" class=\"displacy-label\" startOffset=\"50%\" side=\"left\" fill=\"currentColor\" text-anchor=\"middle\">nmod</textPath>\n",
       "    </text>\n",
       "    <path class=\"displacy-arrowhead\" d=\"M1450.0,179.0 L1458.0,167.0 1442.0,167.0\" fill=\"currentColor\"/>\n",
       "</g>\n",
       "</svg></span>"
      ],
      "text/plain": [
       "<IPython.core.display.HTML object>"
      ]
     },
     "metadata": {},
     "output_type": "display_data"
    }
   ],
   "source": [
    "# Import the displacy submodule\n",
    "from spacy import displacy\n",
    "\n",
    "# Use the render function to render the first item [0] in the list 'sents_fi'.\n",
    "# Pass the argument 'style' with the value 'dep' to visualise syntactic dependencies.\n",
    "displacy.render(sents_fi[0], style='dep')"
   ]
  },
  {
   "cell_type": "markdown",
   "metadata": {},
   "source": [
    "Note that spaCy will raise a warning about storing custom attributes when writing the *Doc* object to disk for visualisation.\n",
    "\n",
    "We can also examine the linguistic annotations created for individual *Token* objects within this *Span* object."
   ]
  },
  {
   "cell_type": "code",
   "execution_count": 25,
   "metadata": {},
   "outputs": [
    {
     "name": "stdout",
     "output_type": "stream",
     "text": [
      "Tove Tove nsubj Case=Nom|Number=Sing\n",
      "Jansson Jansson flat:name Case=Nom|Number=Sing\n",
      "keräsi kerätä root Mood=Ind|Number=Sing|Person=3|Tense=Past|VerbForm=Fin|Voice=Act\n",
      "148 148 nummod NumType=Card\n",
      "ääntä ääni obj Case=Par|Number=Sing\n",
      "eli eli cc \n",
      "18,2 18,2 nummod NumType=Card\n",
      "% % conj \n",
      "annetuista antaa acl Case=Ela|Degree=Pos|Number=Plur|PartForm=Past|VerbForm=Part|Voice=Pass\n",
      "äänistä ääni nmod Case=Ela|Number=Plur\n",
      ". . punct \n"
     ]
    }
   ],
   "source": [
    "# Loop over each Token object in the Span\n",
    "for token in sents_fi[0]:\n",
    "    \n",
    "    # Print the token, its lemma, dependency and morphological features\n",
    "    print(token, token.lemma_, token.dep_, token.morph)"
   ]
  },
  {
   "cell_type": "markdown",
   "metadata": {},
   "source": [
    "Generally, the examples above show how we can access the linguistic annotations created by a Stanza language model through spaCy *Doc*, *Span* and *Token* objects.\n",
    "\n",
    "This section should have given you an idea of how to begin processing diverse languages.\n",
    "\n",
    "The [following section](../part_iii/02_pattern_matching.ipynb) focuses on finding patterns among these objects in spaCy."
   ]
  }
 ],
 "metadata": {
  "celltoolbar": "Edit Metadata",
  "kernelspec": {
   "display_name": "Python 3",
   "language": "python",
   "name": "python3"
  },
  "language_info": {
   "codemirror_mode": {
    "name": "ipython",
    "version": 3
   },
   "file_extension": ".py",
   "mimetype": "text/x-python",
   "name": "python",
   "nbconvert_exporter": "python",
   "pygments_lexer": "ipython3",
   "version": "3.8.5"
  },
  "metadata": {
   "execution": {
    "timeout": 90
   }
  }
 },
 "nbformat": 4,
 "nbformat_minor": 4
}
