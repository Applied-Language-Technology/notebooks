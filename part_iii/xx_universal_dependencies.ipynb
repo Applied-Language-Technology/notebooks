{
 "cells": [
  {
   "cell_type": "markdown",
   "id": "84210582",
   "metadata": {},
   "source": [
    "# Universal Dependencies\n",
    "\n",
    "In this section, we will dive deeper into Universal Dependencies, the framework which we have already encountered in connection with syntactic parsing and morphological analysis in [Part II](../part_ii/03_basic_nlp.ipynb) and [Part III](01_multilingual_nlp.ipynb).\n",
    "\n",
    "After reading through this section, you should:\n",
    "\n",
    "- understand the goals of Universal Dependencies as a project\n",
    "- understand the key assumptions concerning linguistic structures in Universal Dependencies\n",
    "- understand the basics of Universal Dependencies as an annotation schema\n",
    "- know how to leverage the annotations provided by Universal Dependencies"
   ]
  },
  {
   "cell_type": "markdown",
   "id": "abe129cf",
   "metadata": {},
   "source": [
    "## A brief introduction to Universal Dependencies as a project\n",
    "\n",
    "[Universal Dependencies](https://universaldependencies.org/introduction.html) is a collaborative project that seeks to develop a common framework for describing the structure of diverse languages ([de Marneffe et al. 2021](https://doi.org/10.1162/coli_a_00402)). More specifically, the project seeks to enable systematic description of grammatical structures and morphological features across languages, which naturally also enables drawing comparisons between languages. \n",
    "\n",
    "The goal – broad applicability across diverse languages – lends the project the epithet \"Universal\", whereas the term \"Dependencies\" refers to the way the proposed annotation schema describes syntactic structures, which will be expanded on shortly below.\n",
    "\n",
    "Linguistic corpora that contain annotations for syntactic structures are often called *treebanks*, because syntactic structures are generally represented using tree structures. In this context, then, a treebank is simply a collection of syntactic trees, which have been consistently annotated using the Universal Dependencies annotation schema.\n",
    "\n",
    "The number of treebanks annotated using the Universal Dependencies schema has grown steadily over the years (for a recent overview of 90 treebanks, see Nivre et al. [2020](https://aclanthology.org/2020.lrec-1.497/)). The design and creation of such treebanks has been documented in detail for various languages, such as Finnish (Haverinen et al. [2014](https://link.springer.com/article/10.1007/s10579-013-9244-1)), Wolof (Dione [2019](https://aclanthology.org/W19-8003/)) and Hindi/Urdu (Bhat et al. [2017](https://link.springer.com/chapter/10.1007/978-94-024-0881-2_24)).\n",
    "\n",
    "To better understand the effort behind Universal Dependencies as a project, one should acknowledge that developing a consistent annotation schema for describing the structure of diverse languages, such as Finnish, Wolof and Hindi/Urdu, is far from trivial.\n",
    "\n",
    "As pointed out in de Marneffe et al. ([2021: 302–303](https://doi.org/10.1162/coli_a_00402)), the Universal Dependencies annotation schema is a compromise between several criteria:\n",
    "\n",
    "    -"
   ]
  },
  {
   "cell_type": "markdown",
   "id": "fc6f8855",
   "metadata": {},
   "source": [
    "## Some basic assumptions behind Universal Dependencies"
   ]
  },
  {
   "cell_type": "markdown",
   "id": "edebbadb",
   "metadata": {},
   "source": [
    "- An introduction to UD: https://doi.org/10.1162/coli_a_00402\n",
    "- Criticism of UD from the DG community: https://www.glossa-journal.org/article/id/5124/\n",
    "\n",
    "- head and dependents\n",
    "- phrasal units: nominals, clauses and modifiers"
   ]
  },
  {
   "cell_type": "markdown",
   "id": "11f9cb81",
   "metadata": {},
   "source": [
    "The description of linguistic structures in the Universal Dependencies framework revolves around three types of phrasal units: **nominals**, **clauses** and **modifiers**.\n",
    "\n",
    "To put it simply, nominals are used for representing things, whereas clauses are used for representing events. Modifiers, in turn, can be used to describe both nominals and clauses more specifically."
   ]
  },
  {
   "cell_type": "markdown",
   "id": "a024df6b",
   "metadata": {},
   "source": [
    "### Nominals\n",
    "\n",
    "Let's begin by exploring Universal Dependencies by focusing on nominals.\n",
    "\n",
    "(nominal groups in SFL: https://doi.org/10.1080/00437956.2021.1957545)\n",
    "(English noun phrases: https://doi.org/10.1017/CBO9780511627699)\n",
    "\n",
    "To get started, we import spaCy and load a medium-sized language model for English, and store the model under the variable `nlp`."
   ]
  },
  {
   "cell_type": "code",
   "execution_count": 3,
   "id": "624a870c",
   "metadata": {},
   "outputs": [],
   "source": [
    "# Import the spaCy library\n",
    "import spacy\n",
    "\n",
    "# Use the load() function to load a medium-sized language model for English.\n",
    "# Store the language model under the variable 'nlp'.\n",
    "nlp = spacy.load('en_core_web_md')"
   ]
  },
  {
   "cell_type": "markdown",
   "id": "2ec8a3e3",
   "metadata": {},
   "source": [
    "Next, we import the *displacy* module from spaCy to visualise syntactic dependencies, as we learned in [Part II](../part_ii/03_basic_nlp.ipynb#Syntactic-parsing)."
   ]
  },
  {
   "cell_type": "code",
   "execution_count": 4,
   "id": "786d4e1c",
   "metadata": {},
   "outputs": [],
   "source": [
    "# Import the displacy module from spaCy\n",
    "from spacy import displacy"
   ]
  },
  {
   "cell_type": "markdown",
   "id": "60473aaf",
   "metadata": {},
   "source": [
    "We then define a string – \"A large green bird\" – that we feed to the language model under `nlp`, and assign the resulting *Doc* object under the variable `nominal_group`."
   ]
  },
  {
   "cell_type": "code",
   "execution_count": 5,
   "id": "e088ab75",
   "metadata": {},
   "outputs": [],
   "source": [
    "# Feed a string to the language model; store the result under the variable 'nominal_group'\n",
    "nominal_group = nlp('A large green bird')"
   ]
  },
  {
   "cell_type": "markdown",
   "id": "8e7d5008",
   "metadata": {},
   "source": [
    "Next, we use the `render()` function to draw the syntactic dependencies between the *Tokens* in the *Doc* object `nominal_group`.\n",
    "\n",
    "By passing the string `dep` to the argument `style`, we explicitly instruct *displacy* to visualise the syntactic dependencies (because *displacy* can also visualise [named entities](../part_ii/03_basic_nlp.ipynb#Named-entity-recognition))."
   ]
  },
  {
   "cell_type": "code",
   "execution_count": 6,
   "id": "c7963b39",
   "metadata": {},
   "outputs": [
    {
     "data": {
      "text/html": [
       "<span class=\"tex2jax_ignore\"><svg xmlns=\"http://www.w3.org/2000/svg\" xmlns:xlink=\"http://www.w3.org/1999/xlink\" xml:lang=\"en\" id=\"969941c9f9464814a75f7f4b5edf29cf-0\" class=\"displacy\" width=\"750\" height=\"399.5\" direction=\"ltr\" style=\"max-width: none; height: 399.5px; color: #000000; background: #ffffff; font-family: Arial; direction: ltr\">\n",
       "<text class=\"displacy-token\" fill=\"currentColor\" text-anchor=\"middle\" y=\"309.5\">\n",
       "    <tspan class=\"displacy-word\" fill=\"currentColor\" x=\"50\">A</tspan>\n",
       "    <tspan class=\"displacy-tag\" dy=\"2em\" fill=\"currentColor\" x=\"50\">DET</tspan>\n",
       "</text>\n",
       "\n",
       "<text class=\"displacy-token\" fill=\"currentColor\" text-anchor=\"middle\" y=\"309.5\">\n",
       "    <tspan class=\"displacy-word\" fill=\"currentColor\" x=\"225\">large</tspan>\n",
       "    <tspan class=\"displacy-tag\" dy=\"2em\" fill=\"currentColor\" x=\"225\">ADJ</tspan>\n",
       "</text>\n",
       "\n",
       "<text class=\"displacy-token\" fill=\"currentColor\" text-anchor=\"middle\" y=\"309.5\">\n",
       "    <tspan class=\"displacy-word\" fill=\"currentColor\" x=\"400\">green</tspan>\n",
       "    <tspan class=\"displacy-tag\" dy=\"2em\" fill=\"currentColor\" x=\"400\">ADJ</tspan>\n",
       "</text>\n",
       "\n",
       "<text class=\"displacy-token\" fill=\"currentColor\" text-anchor=\"middle\" y=\"309.5\">\n",
       "    <tspan class=\"displacy-word\" fill=\"currentColor\" x=\"575\">bird</tspan>\n",
       "    <tspan class=\"displacy-tag\" dy=\"2em\" fill=\"currentColor\" x=\"575\">NOUN</tspan>\n",
       "</text>\n",
       "\n",
       "<g class=\"displacy-arrow\">\n",
       "    <path class=\"displacy-arc\" id=\"arrow-969941c9f9464814a75f7f4b5edf29cf-0-0\" stroke-width=\"2px\" d=\"M70,264.5 C70,2.0 575.0,2.0 575.0,264.5\" fill=\"none\" stroke=\"currentColor\"/>\n",
       "    <text dy=\"1.25em\" style=\"font-size: 0.8em; letter-spacing: 1px\">\n",
       "        <textPath xlink:href=\"#arrow-969941c9f9464814a75f7f4b5edf29cf-0-0\" class=\"displacy-label\" startOffset=\"50%\" side=\"left\" fill=\"currentColor\" text-anchor=\"middle\">det</textPath>\n",
       "    </text>\n",
       "    <path class=\"displacy-arrowhead\" d=\"M70,266.5 L62,254.5 78,254.5\" fill=\"currentColor\"/>\n",
       "</g>\n",
       "\n",
       "<g class=\"displacy-arrow\">\n",
       "    <path class=\"displacy-arc\" id=\"arrow-969941c9f9464814a75f7f4b5edf29cf-0-1\" stroke-width=\"2px\" d=\"M245,264.5 C245,89.5 570.0,89.5 570.0,264.5\" fill=\"none\" stroke=\"currentColor\"/>\n",
       "    <text dy=\"1.25em\" style=\"font-size: 0.8em; letter-spacing: 1px\">\n",
       "        <textPath xlink:href=\"#arrow-969941c9f9464814a75f7f4b5edf29cf-0-1\" class=\"displacy-label\" startOffset=\"50%\" side=\"left\" fill=\"currentColor\" text-anchor=\"middle\">amod</textPath>\n",
       "    </text>\n",
       "    <path class=\"displacy-arrowhead\" d=\"M245,266.5 L237,254.5 253,254.5\" fill=\"currentColor\"/>\n",
       "</g>\n",
       "\n",
       "<g class=\"displacy-arrow\">\n",
       "    <path class=\"displacy-arc\" id=\"arrow-969941c9f9464814a75f7f4b5edf29cf-0-2\" stroke-width=\"2px\" d=\"M420,264.5 C420,177.0 565.0,177.0 565.0,264.5\" fill=\"none\" stroke=\"currentColor\"/>\n",
       "    <text dy=\"1.25em\" style=\"font-size: 0.8em; letter-spacing: 1px\">\n",
       "        <textPath xlink:href=\"#arrow-969941c9f9464814a75f7f4b5edf29cf-0-2\" class=\"displacy-label\" startOffset=\"50%\" side=\"left\" fill=\"currentColor\" text-anchor=\"middle\">amod</textPath>\n",
       "    </text>\n",
       "    <path class=\"displacy-arrowhead\" d=\"M420,266.5 L412,254.5 428,254.5\" fill=\"currentColor\"/>\n",
       "</g>\n",
       "</svg></span>"
      ],
      "text/plain": [
       "<IPython.core.display.HTML object>"
      ]
     },
     "metadata": {},
     "output_type": "display_data"
    }
   ],
   "source": [
    "# Render the syntactic dependencies using the render() function from displacy\n",
    "displacy.render(nominal_group, style='dep')"
   ]
  },
  {
   "cell_type": "markdown",
   "id": "baee0564",
   "metadata": {},
   "source": [
    "This gives us a visualisation of the syntactic dependencies between the four *Tokens*.\n",
    "\n",
    "Three arcs lead out from the noun \"bird\" and point towards the *Tokens* \"A\", \"large\" and \"green\". This means that the noun \"bird\" acts as the **head**, whereas the three other *Tokens* are the **dependents** of this head.\n",
    "\n",
    "These dependencies are further specified by syntactic relations defined in Universal Dependencies, which are given by the label below each arc.\n",
    "\n",
    "In this case, the head noun \"bird\" has two adjectival modifiers (`amod`), \"large\" and \"green\", and a determiner (`det`), \"a\".\n",
    "\n",
    "If we loop over the *Tokens* in the *Doc* object under the variable `nominal_group` and print out the syntactic dependencies for each Token, which are available under the attribute `dep_`, we can see that the head noun has the dependency tag `ROOT`.\n",
    "\n",
    "In other words, the syntactic dependencies that describe this nominal group are built around the noun."
   ]
  },
  {
   "cell_type": "code",
   "execution_count": 7,
   "id": "a778e860",
   "metadata": {},
   "outputs": [
    {
     "name": "stdout",
     "output_type": "stream",
     "text": [
      "A det\n",
      "large amod\n",
      "green amod\n",
      "bird ROOT\n"
     ]
    }
   ],
   "source": [
    "# Loop over each Token in the Doc object 'nominal_group'\n",
    "for token in nominal_group:\n",
    "    \n",
    "    # Print out each Token and its dependency tag\n",
    "    print(token, token.dep_)"
   ]
  },
  {
   "cell_type": "markdown",
   "id": "6b99548f",
   "metadata": {},
   "source": [
    "This also leads us to the next phrasal unit, namely modifiers."
   ]
  },
  {
   "cell_type": "markdown",
   "id": "0b7fc7b9",
   "metadata": {},
   "source": [
    "### Modifiers"
   ]
  },
  {
   "cell_type": "markdown",
   "id": "c067d296",
   "metadata": {},
   "source": [
    "### Clauses"
   ]
  },
  {
   "cell_type": "code",
   "execution_count": 22,
   "id": "c74fd3aa",
   "metadata": {},
   "outputs": [
    {
     "data": {
      "text/html": [
       "<span class=\"tex2jax_ignore\"><svg xmlns=\"http://www.w3.org/2000/svg\" xmlns:xlink=\"http://www.w3.org/1999/xlink\" xml:lang=\"en\" id=\"bf9368674f4b44dbaf82f3297ea8d6e3-0\" class=\"displacy\" width=\"1100\" height=\"487.0\" direction=\"ltr\" style=\"max-width: none; height: 487.0px; color: #000000; background: #ffffff; font-family: Arial; direction: ltr\">\n",
       "<text class=\"displacy-token\" fill=\"currentColor\" text-anchor=\"middle\" y=\"397.0\">\n",
       "    <tspan class=\"displacy-word\" fill=\"currentColor\" x=\"50\">I</tspan>\n",
       "    <tspan class=\"displacy-tag\" dy=\"2em\" fill=\"currentColor\" x=\"50\">PRON</tspan>\n",
       "</text>\n",
       "\n",
       "<text class=\"displacy-token\" fill=\"currentColor\" text-anchor=\"middle\" y=\"397.0\">\n",
       "    <tspan class=\"displacy-word\" fill=\"currentColor\" x=\"225\">saw</tspan>\n",
       "    <tspan class=\"displacy-tag\" dy=\"2em\" fill=\"currentColor\" x=\"225\">VERB</tspan>\n",
       "</text>\n",
       "\n",
       "<text class=\"displacy-token\" fill=\"currentColor\" text-anchor=\"middle\" y=\"397.0\">\n",
       "    <tspan class=\"displacy-word\" fill=\"currentColor\" x=\"400\">a</tspan>\n",
       "    <tspan class=\"displacy-tag\" dy=\"2em\" fill=\"currentColor\" x=\"400\">DET</tspan>\n",
       "</text>\n",
       "\n",
       "<text class=\"displacy-token\" fill=\"currentColor\" text-anchor=\"middle\" y=\"397.0\">\n",
       "    <tspan class=\"displacy-word\" fill=\"currentColor\" x=\"575\">large</tspan>\n",
       "    <tspan class=\"displacy-tag\" dy=\"2em\" fill=\"currentColor\" x=\"575\">ADJ</tspan>\n",
       "</text>\n",
       "\n",
       "<text class=\"displacy-token\" fill=\"currentColor\" text-anchor=\"middle\" y=\"397.0\">\n",
       "    <tspan class=\"displacy-word\" fill=\"currentColor\" x=\"750\">green</tspan>\n",
       "    <tspan class=\"displacy-tag\" dy=\"2em\" fill=\"currentColor\" x=\"750\">ADJ</tspan>\n",
       "</text>\n",
       "\n",
       "<text class=\"displacy-token\" fill=\"currentColor\" text-anchor=\"middle\" y=\"397.0\">\n",
       "    <tspan class=\"displacy-word\" fill=\"currentColor\" x=\"925\">bird.</tspan>\n",
       "    <tspan class=\"displacy-tag\" dy=\"2em\" fill=\"currentColor\" x=\"925\">NOUN</tspan>\n",
       "</text>\n",
       "\n",
       "<g class=\"displacy-arrow\">\n",
       "    <path class=\"displacy-arc\" id=\"arrow-bf9368674f4b44dbaf82f3297ea8d6e3-0-0\" stroke-width=\"2px\" d=\"M70,352.0 C70,264.5 210.0,264.5 210.0,352.0\" fill=\"none\" stroke=\"currentColor\"/>\n",
       "    <text dy=\"1.25em\" style=\"font-size: 0.8em; letter-spacing: 1px\">\n",
       "        <textPath xlink:href=\"#arrow-bf9368674f4b44dbaf82f3297ea8d6e3-0-0\" class=\"displacy-label\" startOffset=\"50%\" side=\"left\" fill=\"currentColor\" text-anchor=\"middle\">nsubj</textPath>\n",
       "    </text>\n",
       "    <path class=\"displacy-arrowhead\" d=\"M70,354.0 L62,342.0 78,342.0\" fill=\"currentColor\"/>\n",
       "</g>\n",
       "\n",
       "<g class=\"displacy-arrow\">\n",
       "    <path class=\"displacy-arc\" id=\"arrow-bf9368674f4b44dbaf82f3297ea8d6e3-0-1\" stroke-width=\"2px\" d=\"M420,352.0 C420,89.5 920.0,89.5 920.0,352.0\" fill=\"none\" stroke=\"currentColor\"/>\n",
       "    <text dy=\"1.25em\" style=\"font-size: 0.8em; letter-spacing: 1px\">\n",
       "        <textPath xlink:href=\"#arrow-bf9368674f4b44dbaf82f3297ea8d6e3-0-1\" class=\"displacy-label\" startOffset=\"50%\" side=\"left\" fill=\"currentColor\" text-anchor=\"middle\">det</textPath>\n",
       "    </text>\n",
       "    <path class=\"displacy-arrowhead\" d=\"M420,354.0 L412,342.0 428,342.0\" fill=\"currentColor\"/>\n",
       "</g>\n",
       "\n",
       "<g class=\"displacy-arrow\">\n",
       "    <path class=\"displacy-arc\" id=\"arrow-bf9368674f4b44dbaf82f3297ea8d6e3-0-2\" stroke-width=\"2px\" d=\"M595,352.0 C595,177.0 915.0,177.0 915.0,352.0\" fill=\"none\" stroke=\"currentColor\"/>\n",
       "    <text dy=\"1.25em\" style=\"font-size: 0.8em; letter-spacing: 1px\">\n",
       "        <textPath xlink:href=\"#arrow-bf9368674f4b44dbaf82f3297ea8d6e3-0-2\" class=\"displacy-label\" startOffset=\"50%\" side=\"left\" fill=\"currentColor\" text-anchor=\"middle\">amod</textPath>\n",
       "    </text>\n",
       "    <path class=\"displacy-arrowhead\" d=\"M595,354.0 L587,342.0 603,342.0\" fill=\"currentColor\"/>\n",
       "</g>\n",
       "\n",
       "<g class=\"displacy-arrow\">\n",
       "    <path class=\"displacy-arc\" id=\"arrow-bf9368674f4b44dbaf82f3297ea8d6e3-0-3\" stroke-width=\"2px\" d=\"M770,352.0 C770,264.5 910.0,264.5 910.0,352.0\" fill=\"none\" stroke=\"currentColor\"/>\n",
       "    <text dy=\"1.25em\" style=\"font-size: 0.8em; letter-spacing: 1px\">\n",
       "        <textPath xlink:href=\"#arrow-bf9368674f4b44dbaf82f3297ea8d6e3-0-3\" class=\"displacy-label\" startOffset=\"50%\" side=\"left\" fill=\"currentColor\" text-anchor=\"middle\">amod</textPath>\n",
       "    </text>\n",
       "    <path class=\"displacy-arrowhead\" d=\"M770,354.0 L762,342.0 778,342.0\" fill=\"currentColor\"/>\n",
       "</g>\n",
       "\n",
       "<g class=\"displacy-arrow\">\n",
       "    <path class=\"displacy-arc\" id=\"arrow-bf9368674f4b44dbaf82f3297ea8d6e3-0-4\" stroke-width=\"2px\" d=\"M245,352.0 C245,2.0 925.0,2.0 925.0,352.0\" fill=\"none\" stroke=\"currentColor\"/>\n",
       "    <text dy=\"1.25em\" style=\"font-size: 0.8em; letter-spacing: 1px\">\n",
       "        <textPath xlink:href=\"#arrow-bf9368674f4b44dbaf82f3297ea8d6e3-0-4\" class=\"displacy-label\" startOffset=\"50%\" side=\"left\" fill=\"currentColor\" text-anchor=\"middle\">dobj</textPath>\n",
       "    </text>\n",
       "    <path class=\"displacy-arrowhead\" d=\"M925.0,354.0 L933.0,342.0 917.0,342.0\" fill=\"currentColor\"/>\n",
       "</g>\n",
       "</svg></span>"
      ],
      "text/plain": [
       "<IPython.core.display.HTML object>"
      ]
     },
     "metadata": {},
     "output_type": "display_data"
    }
   ],
   "source": [
    "clause = nlp('I saw a large green bird.')\n",
    "\n",
    "displacy.render(clause, style='dep')"
   ]
  },
  {
   "cell_type": "code",
   "execution_count": 17,
   "id": "c4ecb859",
   "metadata": {},
   "outputs": [
    {
     "name": "stdout",
     "output_type": "stream",
     "text": [
      "I nsubj\n",
      "saw ROOT\n",
      "a det\n",
      "large amod\n",
      "green amod\n",
      "bird dobj\n"
     ]
    }
   ],
   "source": [
    "for token in clause:\n",
    "    \n",
    "    print(token, token.dep_)"
   ]
  },
  {
   "cell_type": "markdown",
   "id": "526bd1a3",
   "metadata": {},
   "source": [
    "## Understanding the annotation schema\n",
    "\n",
    "- universal POS tags\n",
    "- universal morphological features\n",
    "- syntactic relations"
   ]
  },
  {
   "cell_type": "markdown",
   "id": "1e511eca",
   "metadata": {},
   "source": [
    "## Making the most of Universal Dependencies\n",
    "\n",
    "- the more you know, the further you go: finding patterns\n",
    "- evaluating parsers trained using UD corpora: labeled attachment score"
   ]
  },
  {
   "cell_type": "code",
   "execution_count": 23,
   "id": "f579a144",
   "metadata": {},
   "outputs": [
    {
     "data": {
      "text/html": [
       "<span class=\"tex2jax_ignore\"><svg xmlns=\"http://www.w3.org/2000/svg\" xmlns:xlink=\"http://www.w3.org/1999/xlink\" xml:lang=\"en\" id=\"c60e5cb2664c44d9ad50643f7d3184fb-0\" class=\"displacy\" width=\"750\" height=\"399.5\" direction=\"ltr\" style=\"max-width: none; height: 399.5px; color: #000000; background: #ffffff; font-family: Arial; direction: ltr\">\n",
       "<text class=\"displacy-token\" fill=\"currentColor\" text-anchor=\"middle\" y=\"309.5\">\n",
       "    <tspan class=\"displacy-word\" fill=\"currentColor\" x=\"50\">a</tspan>\n",
       "    <tspan class=\"displacy-tag\" dy=\"2em\" fill=\"currentColor\" x=\"50\">DET</tspan>\n",
       "</text>\n",
       "\n",
       "<text class=\"displacy-token\" fill=\"currentColor\" text-anchor=\"middle\" y=\"309.5\">\n",
       "    <tspan class=\"displacy-word\" fill=\"currentColor\" x=\"225\">large</tspan>\n",
       "    <tspan class=\"displacy-tag\" dy=\"2em\" fill=\"currentColor\" x=\"225\">ADJ</tspan>\n",
       "</text>\n",
       "\n",
       "<text class=\"displacy-token\" fill=\"currentColor\" text-anchor=\"middle\" y=\"309.5\">\n",
       "    <tspan class=\"displacy-word\" fill=\"currentColor\" x=\"400\">green</tspan>\n",
       "    <tspan class=\"displacy-tag\" dy=\"2em\" fill=\"currentColor\" x=\"400\">ADJ</tspan>\n",
       "</text>\n",
       "\n",
       "<text class=\"displacy-token\" fill=\"currentColor\" text-anchor=\"middle\" y=\"309.5\">\n",
       "    <tspan class=\"displacy-word\" fill=\"currentColor\" x=\"575\">bird</tspan>\n",
       "    <tspan class=\"displacy-tag\" dy=\"2em\" fill=\"currentColor\" x=\"575\">NOUN</tspan>\n",
       "</text>\n",
       "\n",
       "<g class=\"displacy-arrow\">\n",
       "    <path class=\"displacy-arc\" id=\"arrow-c60e5cb2664c44d9ad50643f7d3184fb-0-0\" stroke-width=\"2px\" d=\"M70,264.5 C70,2.0 575.0,2.0 575.0,264.5\" fill=\"none\" stroke=\"currentColor\"/>\n",
       "    <text dy=\"1.25em\" style=\"font-size: 0.8em; letter-spacing: 1px\">\n",
       "        <textPath xlink:href=\"#arrow-c60e5cb2664c44d9ad50643f7d3184fb-0-0\" class=\"displacy-label\" startOffset=\"50%\" side=\"left\" fill=\"currentColor\" text-anchor=\"middle\">det</textPath>\n",
       "    </text>\n",
       "    <path class=\"displacy-arrowhead\" d=\"M70,266.5 L62,254.5 78,254.5\" fill=\"currentColor\"/>\n",
       "</g>\n",
       "\n",
       "<g class=\"displacy-arrow\">\n",
       "    <path class=\"displacy-arc\" id=\"arrow-c60e5cb2664c44d9ad50643f7d3184fb-0-1\" stroke-width=\"2px\" d=\"M245,264.5 C245,89.5 570.0,89.5 570.0,264.5\" fill=\"none\" stroke=\"currentColor\"/>\n",
       "    <text dy=\"1.25em\" style=\"font-size: 0.8em; letter-spacing: 1px\">\n",
       "        <textPath xlink:href=\"#arrow-c60e5cb2664c44d9ad50643f7d3184fb-0-1\" class=\"displacy-label\" startOffset=\"50%\" side=\"left\" fill=\"currentColor\" text-anchor=\"middle\">amod</textPath>\n",
       "    </text>\n",
       "    <path class=\"displacy-arrowhead\" d=\"M245,266.5 L237,254.5 253,254.5\" fill=\"currentColor\"/>\n",
       "</g>\n",
       "\n",
       "<g class=\"displacy-arrow\">\n",
       "    <path class=\"displacy-arc\" id=\"arrow-c60e5cb2664c44d9ad50643f7d3184fb-0-2\" stroke-width=\"2px\" d=\"M420,264.5 C420,177.0 565.0,177.0 565.0,264.5\" fill=\"none\" stroke=\"currentColor\"/>\n",
       "    <text dy=\"1.25em\" style=\"font-size: 0.8em; letter-spacing: 1px\">\n",
       "        <textPath xlink:href=\"#arrow-c60e5cb2664c44d9ad50643f7d3184fb-0-2\" class=\"displacy-label\" startOffset=\"50%\" side=\"left\" fill=\"currentColor\" text-anchor=\"middle\">amod</textPath>\n",
       "    </text>\n",
       "    <path class=\"displacy-arrowhead\" d=\"M420,266.5 L412,254.5 428,254.5\" fill=\"currentColor\"/>\n",
       "</g>\n",
       "</svg></span>"
      ],
      "text/plain": [
       "<IPython.core.display.HTML object>"
      ]
     },
     "metadata": {},
     "output_type": "display_data"
    }
   ],
   "source": [
    "for token in clause:\n",
    "    \n",
    "    if token.dep_ == 'dobj':\n",
    "        \n",
    "        descendants = list(token.subtree)\n",
    "        \n",
    "        start, end = descendants[0].i, descendants[-1].i + 1 \n",
    "        \n",
    "        displacy.render(clause[start:end], style='dep')"
   ]
  },
  {
   "cell_type": "code",
   "execution_count": null,
   "id": "fa0f8f7c",
   "metadata": {},
   "outputs": [],
   "source": []
  }
 ],
 "metadata": {
  "kernelspec": {
   "display_name": "Python 3",
   "language": "python",
   "name": "python3"
  },
  "language_info": {
   "codemirror_mode": {
    "name": "ipython",
    "version": 3
   },
   "file_extension": ".py",
   "mimetype": "text/x-python",
   "name": "python",
   "nbconvert_exporter": "python",
   "pygments_lexer": "ipython3",
   "version": "3.9.5"
  }
 },
 "nbformat": 4,
 "nbformat_minor": 5
}
